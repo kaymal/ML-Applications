{
 "cells": [
  {
   "cell_type": "markdown",
   "metadata": {},
   "source": [
    "# Fraud Detection with Python\n",
    "\n",
    "We'll deal with Fraud Detection and particularly *class imbalence* which is the main challenge of fraud detection.\n",
    "\n",
    "Contents: \n",
    "- Data Preparation\n",
    "- Methods for Fraud Detection\n",
    "- Evaluation (Performance) Metrics\n",
    "- Labelled Data (Fraud Detection Using Supervised Learning)\n",
    "- Unlabelled Data (Fraud Detection Using Unsupervised Learning)\n",
    "- Text"
   ]
  },
  {
   "cell_type": "code",
   "execution_count": 2,
   "metadata": {},
   "outputs": [
    {
     "name": "stderr",
     "output_type": "stream",
     "text": [
      "Using TensorFlow backend.\n"
     ]
    }
   ],
   "source": [
    "import pandas as pd\n",
    "import numpy as np\n",
    "\n",
    "import matplotlib.pyplot as plt\n",
    "import seaborn as sns\n",
    "\n",
    "from sklearn.model_selection import train_test_split\n",
    "from sklearn.metrics import classification_report, confusion_matrix\n",
    "from sklearn.metrics import accuracy_score, roc_auc_score\n",
    "from sklearn.metrics import average_precision_score, precision_recall_curve\n",
    "\n",
    "from sklearn.model_selection import GridSearchCV\n",
    "\n",
    "from sklearn.linear_model import LogisticRegression\n",
    "from sklearn.ensemble import RandomForestClassifier\n",
    "from sklearn.ensemble import  VotingClassifier\n",
    "\n",
    "from sklearn.tree import DecisionTreeClassifier\n",
    "\n",
    "from imblearn.pipeline import Pipeline"
   ]
  },
  {
   "cell_type": "markdown",
   "metadata": {
    "toc-hr-collapsed": true
   },
   "source": [
    "## Data Preparation"
   ]
  },
  {
   "cell_type": "code",
   "execution_count": 2,
   "metadata": {},
   "outputs": [],
   "source": [
    "df = pd.read_csv(\"datasets/creditcard_sampledata_3.csv\", index_col=0)"
   ]
  },
  {
   "cell_type": "code",
   "execution_count": 3,
   "metadata": {},
   "outputs": [
    {
     "name": "stdout",
     "output_type": "stream",
     "text": [
      "<class 'pandas.core.frame.DataFrame'>\n",
      "Int64Index: 5050 entries, 258647 to 63421\n",
      "Data columns (total 30 columns):\n",
      "V1        5050 non-null float64\n",
      "V2        5050 non-null float64\n",
      "V3        5050 non-null float64\n",
      "V4        5050 non-null float64\n",
      "V5        5050 non-null float64\n",
      "V6        5050 non-null float64\n",
      "V7        5050 non-null float64\n",
      "V8        5050 non-null float64\n",
      "V9        5050 non-null float64\n",
      "V10       5050 non-null float64\n",
      "V11       5050 non-null float64\n",
      "V12       5050 non-null float64\n",
      "V13       5050 non-null float64\n",
      "V14       5050 non-null float64\n",
      "V15       5050 non-null float64\n",
      "V16       5050 non-null float64\n",
      "V17       5050 non-null float64\n",
      "V18       5050 non-null float64\n",
      "V19       5050 non-null float64\n",
      "V20       5050 non-null float64\n",
      "V21       5050 non-null float64\n",
      "V22       5050 non-null float64\n",
      "V23       5050 non-null float64\n",
      "V24       5050 non-null float64\n",
      "V25       5050 non-null float64\n",
      "V26       5050 non-null float64\n",
      "V27       5050 non-null float64\n",
      "V28       5050 non-null float64\n",
      "Amount    5050 non-null float64\n",
      "Class     5050 non-null int64\n",
      "dtypes: float64(29), int64(1)\n",
      "memory usage: 1.2 MB\n"
     ]
    }
   ],
   "source": [
    "df.info()"
   ]
  },
  {
   "cell_type": "markdown",
   "metadata": {},
   "source": [
    "### EDA"
   ]
  },
  {
   "cell_type": "code",
   "execution_count": 4,
   "metadata": {},
   "outputs": [
    {
     "data": {
      "text/plain": [
       "(5050, 30)"
      ]
     },
     "execution_count": 4,
     "metadata": {},
     "output_type": "execute_result"
    }
   ],
   "source": [
    "df.shape"
   ]
  },
  {
   "cell_type": "code",
   "execution_count": 5,
   "metadata": {},
   "outputs": [
    {
     "data": {
      "text/plain": [
       "0    5000\n",
       "1      50\n",
       "Name: Class, dtype: int64"
      ]
     },
     "execution_count": 5,
     "metadata": {},
     "output_type": "execute_result"
    }
   ],
   "source": [
    "# Count the occurrences of fraud and no fraud\n",
    "df['Class'].value_counts()"
   ]
  },
  {
   "cell_type": "markdown",
   "metadata": {},
   "source": [
    "The ratio of fraudulent transactions is very low in Fraud Detection."
   ]
  },
  {
   "cell_type": "code",
   "execution_count": 6,
   "metadata": {},
   "outputs": [
    {
     "name": "stdout",
     "output_type": "stream",
     "text": [
      "0    0.990099\n",
      "1    0.009901\n",
      "Name: Class, dtype: float64\n"
     ]
    }
   ],
   "source": [
    "# Print the ratio of fraud cases\n",
    "print(df['Class'].value_counts() / df['Class'].shape[0])"
   ]
  },
  {
   "cell_type": "code",
   "execution_count": 7,
   "metadata": {},
   "outputs": [],
   "source": [
    "def prep_data(df):\n",
    "    X = df.iloc[:, 1:29]\n",
    "    X = np.array(X).astype(np.float)\n",
    "    y = df.iloc[:, 29]\n",
    "    y=np.array(y).astype(np.float)\n",
    "    return X,y\n",
    "\n",
    "# Create X and y from the prep_data function \n",
    "X, y = prep_data(df)"
   ]
  },
  {
   "cell_type": "code",
   "execution_count": 8,
   "metadata": {},
   "outputs": [
    {
     "data": {
      "image/png": "[encoded data removed]",
      "text/plain": [
       "<Figure size 432x288 with 1 Axes>"
      ]
     },
     "metadata": {
      "needs_background": "light"
     },
     "output_type": "display_data"
    }
   ],
   "source": [
    "# Define a function to create a scatter plot of our data and labels\n",
    "def plot_data(X, y):\n",
    "    plt.scatter(X[y == 0, 0], X[y == 0, 1], label=\"Class 0\", alpha=0.5, linewidth=0.15)\n",
    "    plt.scatter(X[y == 1, 0], X[y == 1, 1], label=\"Class 1\", alpha=0.5, linewidth=0.15, c='r')\n",
    "    plt.legend()\n",
    "    return plt.show()\n",
    "\n",
    "# Plot our data by running our plot data function on X and y\n",
    "plot_data(X, y)"
   ]
  },
  {
   "cell_type": "code",
   "execution_count": 9,
   "metadata": {},
   "outputs": [
    {
     "data": {
      "text/plain": [
       "<matplotlib.axes._subplots.AxesSubplot at 0x1a39d42eb8>"
      ]
     },
     "execution_count": 9,
     "metadata": {},
     "output_type": "execute_result"
    },
    {
     "data": {
      "image/png": "[encoded data removed]",
      "text/plain": [
       "<Figure size 432x288 with 1 Axes>"
      ]
     },
     "metadata": {
      "needs_background": "light"
     },
     "output_type": "display_data"
    }
   ],
   "source": [
    "sns.scatterplot(x='V2', y='V3', hue='Class', palette=['b', 'r'], alpha=.5, data=df)"
   ]
  },
  {
   "cell_type": "markdown",
   "metadata": {
    "toc-hr-collapsed": true
   },
   "source": [
    "### Resampling Data\n",
    "\n",
    "By using Random Over Sampling and Synthetic Minority Over-sampling Technique (SMOTE) we add more examples to the minority class. Random Under Sampling, on the other hand, adjusts the balance of the data by reducing the majority class."
   ]
  },
  {
   "cell_type": "markdown",
   "metadata": {},
   "source": [
    "#### SMOTE\n",
    "\n",
    "SMOTE creates new, synthetic, samples of data that are quite similar to the existing observations in the minority class. It does not create exact copies of observations. "
   ]
  },
  {
   "cell_type": "code",
   "execution_count": 10,
   "metadata": {},
   "outputs": [
    {
     "data": {
      "image/png": "[encoded data removed]",
      "text/plain": [
       "<Figure size 432x288 with 1 Axes>"
      ]
     },
     "metadata": {
      "needs_background": "light"
     },
     "output_type": "display_data"
    }
   ],
   "source": [
    "from imblearn.over_sampling import SMOTE\n",
    "\n",
    "# Run the prep_data function\n",
    "X, y = prep_data(df)\n",
    "\n",
    "# Define the resampling method\n",
    "method = SMOTE(kind='regular')\n",
    "\n",
    "# Create the resampled feature set\n",
    "X_resampled, y_resampled = method.fit_sample(X, y)\n",
    "\n",
    "# Plot the resampled data\n",
    "plot_data(X_resampled, y_resampled)"
   ]
  },
  {
   "cell_type": "code",
   "execution_count": 11,
   "metadata": {},
   "outputs": [],
   "source": [
    "def compare_plot(X, y, X_resampled, y_resampled, method):\n",
    "    # Start a plot figure\n",
    "    f, (ax1, ax2) = plt.subplots(1, 2)\n",
    "\n",
    "    # sub-plot number 1, this is our normal data\n",
    "    c0 = ax1.scatter(X[y == 0, 0], X[y == 0, 1], label=\"Class 0\",alpha=0.5)\n",
    "    c1 = ax1.scatter(X[y == 1, 0], X[y == 1, 1], label=\"Class 1\",alpha=0.5, c='r')\n",
    "    ax1.set_title('Original set')\n",
    "                  \n",
    "    # sub-plot number 2, this is our oversampled data\n",
    "    ax2.scatter(X_resampled[y_resampled == 0, 0], X_resampled[y_resampled == 0, 1], label=\"Class 0\", alpha=.5)\n",
    "    ax2.scatter(X_resampled[y_resampled == 1, 0], X_resampled[y_resampled == 1, 1], label=\"Class 1\", alpha=.5, c='r')\n",
    "    ax2.set_title(method)\n",
    "    \n",
    "    # some settings and ready to go\n",
    "    plt.figlegend((c0, c1), ('Class 0', 'Class 1'), loc='lower center', ncol=2, labelspacing=0.)\n",
    "    \n",
    "    #plt.tight_layout(pad=3)\n",
    "                  \n",
    "    return plt.show()"
   ]
  },
  {
   "cell_type": "code",
   "execution_count": 12,
   "metadata": {},
   "outputs": [
    {
     "name": "stdout",
     "output_type": "stream",
     "text": [
      "0.0    5000\n",
      "1.0      50\n",
      "dtype: int64\n",
      "1.0    5000\n",
      "0.0    5000\n",
      "dtype: int64\n"
     ]
    },
    {
     "data": {
      "image/png": "[encoded data removed]",
      "text/plain": [
       "<Figure size 432x288 with 2 Axes>"
      ]
     },
     "metadata": {
      "needs_background": "light"
     },
     "output_type": "display_data"
    }
   ],
   "source": [
    "# Print the value_counts on the original labels y\n",
    "print(pd.value_counts(pd.Series(y)))\n",
    "\n",
    "# Print the value_counts\n",
    "print(pd.value_counts(pd.Series(y_resampled)))\n",
    "\n",
    "# Run compare_plot\n",
    "compare_plot(X, y, X_resampled, y_resampled, method='SMOTE')"
   ]
  },
  {
   "cell_type": "markdown",
   "metadata": {},
   "source": [
    "SMOTE balances data completely, and makes the minority class equal in size to the majority class (unless otherwise specified for parameters `sampling_strategy` or `ratio`)."
   ]
  },
  {
   "cell_type": "markdown",
   "metadata": {
    "toc-hr-collapsed": true
   },
   "source": [
    "## Evaluation Metrics\n",
    "\n",
    "A confusion matrix is used to describe the performance of a classification model on a set of test data. There are several metrics that can be calculated from the confusion matrix: accuracy, precision, recall etc.\n",
    "\n",
    "![metrics](https://upload.wikimedia.org/wikipedia/commons/thumb/a/a2/Preventive_Medicine_Statistics_Sensitivity_TPR%2C_Specificity_TNR%2C_PPV%2C_NPV%2C_FDR%2C_FOR%2C_ACCuracy%2C_Likelihood_Ratio%2C_Diagnostic_Odds_Ratio_2_Final.png/800px-Preventive_Medicine_Statistics_Sensitivity_TPR%2C_Specificity_TNR%2C_PPV%2C_NPV%2C_FDR%2C_FOR%2C_ACCuracy%2C_Likelihood_Ratio%2C_Diagnostic_Odds_Ratio_2_Final.png)"
   ]
  },
  {
   "cell_type": "markdown",
   "metadata": {},
   "source": [
    "### Accuracy\n",
    "\n",
    "Accuracy is the fraction of predictions our model got right. Accuracy can be misleading in the case of highly imbalanced data. "
   ]
  },
  {
   "cell_type": "markdown",
   "metadata": {},
   "source": [
    "### Precision-Recall (Confusion Matrix and Classification Report) \n",
    "\n",
    "The classification report tells you about the precision and recall of the model, whilst the confusion matrix actually shows how many fraud cases we can predict correctly. \n",
    "\n",
    ">The **precision** is the ratio tp / (tp + fp) where tp is the number of true positives and fp the number of false positives. The precision is intuitively the ability of the classifier not to label as positive a sample that is negative. The **recall** is the ratio tp / (tp + fn) where tp is the number of true positives and fn the number of false negatives. The recall is intuitively the ability of the classifier to find all the positive samples. [source](https://scikit-learn.org/stable/modules/generated/sklearn.metrics.precision_recall_curve.html)\n",
    "\n",
    "![precision-recall](https://www.kdnuggets.com/images/precision-recall-relevant-selected.jpg)\n"
   ]
  },
  {
   "cell_type": "markdown",
   "metadata": {},
   "source": [
    "### ROC\n",
    "\n",
    "Receiver Operating Characteristic (ROC) curve is used to assess the classifier's performance. ROC Curve shows the True Positive Rate (sensitivity, recall or probability of detection) against the False Positive Rate (probability of false alarm), and the tradeoff between sensitivity (True Positive Rate) and specificity (True Negative Rate). Thus, any increase in sensitivity will be accompanied by a decrease in specificity.\n",
    "\n",
    "![roc](http://gim.unmc.edu/dxtests/roccomp.jpg)"
   ]
  },
  {
   "cell_type": "markdown",
   "metadata": {},
   "source": [
    "### Area Under the ROC Curve (AUC)\n",
    "\n",
    "AUC is the area under the ROC curve. When the AUC is higher, the model predicts 0s and 1s better with higher seperability. AUC is a more reliable performance evaluation metric, used to compare different classifiers. "
   ]
  },
  {
   "cell_type": "markdown",
   "metadata": {},
   "source": [
    "### Precision-Recall Curve\n",
    "\n",
    "We can investigate the trade-off between precision and recall using Precision-recall curve, which is another tool to evaluate our model. We need a balance between these two in the model."
   ]
  },
  {
   "cell_type": "markdown",
   "metadata": {
    "toc-hr-collapsed": true
   },
   "source": [
    "## Methods for Fraud Detection"
   ]
  },
  {
   "cell_type": "markdown",
   "metadata": {},
   "source": [
    "### Rule Based Methods (Using Statistical Thresholds)\n",
    "\n",
    "We'll define _threshold_ values using statistics, to split fraud and non-fraud. Then, we'll use those thresholds on the features to detect fraud."
   ]
  },
  {
   "cell_type": "code",
   "execution_count": 13,
   "metadata": {},
   "outputs": [
    {
     "name": "stdout",
     "output_type": "stream",
     "text": [
      "Flagged Fraud     0   1\n",
      "Actual Fraud           \n",
      "0              4984  16\n",
      "1                28  22\n"
     ]
    }
   ],
   "source": [
    "# Get the mean for each group\n",
    "df.groupby('Class').mean()\n",
    "\n",
    "# Implement a rule for stating which cases are flagged as fraud\n",
    "df['flag_as_fraud'] = np.where(np.logical_and(df.V1 <-3, df.V3<-5), 1, 0)\n",
    "\n",
    "# Create a crosstab of flagged fraud cases versus the actual fraud cases\n",
    "print(pd.crosstab(df.Class, df.flag_as_fraud, rownames=['Actual Fraud'], colnames=['Flagged Fraud']))"
   ]
  },
  {
   "cell_type": "markdown",
   "metadata": {
    "toc-hr-collapsed": true
   },
   "source": [
    "### ML Classification Methods (Logistic Regression Example)"
   ]
  },
  {
   "cell_type": "markdown",
   "metadata": {},
   "source": [
    "#### Logistic Regression w/o SMOTE"
   ]
  },
  {
   "cell_type": "code",
   "execution_count": 14,
   "metadata": {},
   "outputs": [
    {
     "name": "stdout",
     "output_type": "stream",
     "text": [
      "Confusion matrix:\n",
      " [[1504    1]\n",
      " [   2    8]]\n",
      "\n",
      "Classification report:\n",
      "               precision    recall  f1-score   support\n",
      "\n",
      "         0.0       1.00      1.00      1.00      1505\n",
      "         1.0       0.89      0.80      0.84        10\n",
      "\n",
      "    accuracy                           1.00      1515\n",
      "   macro avg       0.94      0.90      0.92      1515\n",
      "weighted avg       1.00      1.00      1.00      1515\n",
      "\n"
     ]
    },
    {
     "name": "stderr",
     "output_type": "stream",
     "text": [
      "/anaconda3/lib/python3.7/site-packages/sklearn/linear_model/logistic.py:432: FutureWarning: Default solver will be changed to 'lbfgs' in 0.22. Specify a solver to silence this warning.\n",
      "  FutureWarning)\n"
     ]
    }
   ],
   "source": [
    "# Create the training and testing sets\n",
    "X_train, X_test, y_train, y_test = train_test_split(X, y, test_size=.3, random_state=0)\n",
    "\n",
    "# Fit a logistic regression model to our data\n",
    "model = LogisticRegression()\n",
    "model.fit(X_train, y_train)\n",
    "\n",
    "# Obtain model predictions\n",
    "predicted = model.predict(X_test)\n",
    "\n",
    "# Print the confusion matrix and classifcation report\n",
    "print('Confusion matrix:\\n', confusion_matrix(y_true=y_test, y_pred=predicted))\n",
    "print('\\nClassification report:\\n', classification_report(y_test, predicted))"
   ]
  },
  {
   "cell_type": "markdown",
   "metadata": {},
   "source": [
    "#### Logistic Regression w/ SMOTE"
   ]
  },
  {
   "cell_type": "code",
   "execution_count": 15,
   "metadata": {},
   "outputs": [],
   "source": [
    "# from imblearn.pipeline import Pipeline\n",
    "\n",
    "# Define which resampling method and which ML model to use in the pipeline\n",
    "resampling = SMOTE(kind='borderline2')\n",
    "model = LogisticRegression()\n",
    "\n",
    "# Define the pipeline, tell it to combine SMOTE with the Logistic Regression model\n",
    "pipeline = Pipeline([('SMOTE', resampling), \n",
    "                     ('Logistic Regression', model)])"
   ]
  },
  {
   "cell_type": "code",
   "execution_count": 16,
   "metadata": {},
   "outputs": [
    {
     "name": "stdout",
     "output_type": "stream",
     "text": [
      "Confusion matrix:\n",
      " [[1499    6]\n",
      " [   0   10]]\n",
      "\n",
      "Classification report:\n",
      "               precision    recall  f1-score   support\n",
      "\n",
      "         0.0       1.00      1.00      1.00      1505\n",
      "         1.0       0.62      1.00      0.77        10\n",
      "\n",
      "    accuracy                           1.00      1515\n",
      "   macro avg       0.81      1.00      0.88      1515\n",
      "weighted avg       1.00      1.00      1.00      1515\n",
      "\n"
     ]
    },
    {
     "name": "stderr",
     "output_type": "stream",
     "text": [
      "/anaconda3/lib/python3.7/site-packages/sklearn/linear_model/logistic.py:432: FutureWarning: Default solver will be changed to 'lbfgs' in 0.22. Specify a solver to silence this warning.\n",
      "  FutureWarning)\n"
     ]
    }
   ],
   "source": [
    "# Split your data X and y, into a training and a test set and fit the pipeline onto the training data\n",
    "X_train, X_test, y_train, y_test = train_test_split(X, y, test_size=.3, random_state=0)\n",
    "\n",
    "# Fit your pipeline onto your training set and obtain predictions by fitting the model onto the test data \n",
    "pipeline.fit(X_train, y_train) \n",
    "predicted = pipeline.predict(X_test)\n",
    "\n",
    "# Obtain the results from the classification report and confusion matrix \n",
    "print('Confusion matrix:\\n', confusion_matrix(y_true=y_test, y_pred=predicted))\n",
    "print('\\nClassification report:\\n', classification_report(y_test, predicted))"
   ]
  },
  {
   "cell_type": "markdown",
   "metadata": {},
   "source": [
    "It seems that SMOTE slightly improves the results. However, we should keep in mind that resampling may not necessarily lead to better results in every case.\n",
    ">  When the fraud cases are very spread and scattered over the data, using SMOTE can introduce a bit of bias. Nearest neighbors aren't necessarily also fraud cases, so the synthetic samples might 'confuse' the model slightly. "
   ]
  },
  {
   "cell_type": "markdown",
   "metadata": {
    "toc-hr-collapsed": false
   },
   "source": [
    "## Labelled Data\n",
    "\n",
    "In this section, we'll flag fraudulent transactions using supervised learning."
   ]
  },
  {
   "cell_type": "code",
   "execution_count": 17,
   "metadata": {},
   "outputs": [],
   "source": [
    "df = pd.read_csv(\"datasets/creditcard_sampledata_2.csv\", index_col=0)"
   ]
  },
  {
   "cell_type": "code",
   "execution_count": 107,
   "metadata": {
    "jupyter": {
     "source_hidden": true
    }
   },
   "outputs": [
    {
     "data": {
      "text/plain": [
       "(7300, 30)"
      ]
     },
     "execution_count": 107,
     "metadata": {},
     "output_type": "execute_result"
    }
   ],
   "source": [
    "df.shape"
   ]
  },
  {
   "cell_type": "code",
   "execution_count": 18,
   "metadata": {},
   "outputs": [],
   "source": [
    "def prep_data(df):\n",
    "    X = df.iloc[:, 1:29]\n",
    "    X = np.array(X).astype(np.float)\n",
    "    y = df.iloc[:, 29]\n",
    "    y=np.array(y).astype(np.float)\n",
    "    return X,y\n",
    "\n",
    "# Create X and y from the prep_data function \n",
    "X, y = prep_data(df)"
   ]
  },
  {
   "cell_type": "code",
   "execution_count": 19,
   "metadata": {},
   "outputs": [
    {
     "name": "stdout",
     "output_type": "stream",
     "text": [
      "95.8904109589041\n"
     ]
    }
   ],
   "source": [
    "# Count the total number of observations from the length of y\n",
    "total_obs = len(y)\n",
    "\n",
    "# Count the total number of non-fraudulent observations \n",
    "non_fraud = [i for i in y if i == 0]\n",
    "count_non_fraud = non_fraud.count(0)\n",
    "\n",
    "# Calculate the percentage of non fraud observations in the dataset\n",
    "percentage = (float(count_non_fraud)/float(total_obs)) * 100\n",
    "\n",
    "# Print the percentage: this is our \"natural accuracy\" by doing nothing\n",
    "print(percentage)"
   ]
  },
  {
   "cell_type": "markdown",
   "metadata": {},
   "source": [
    "The **natural accuracy** (or baseline accuracy or hit rate) is roughly 96%. If we get an accuracy of less than this number, the model does not actually add any value in predicting how many cases are correct."
   ]
  },
  {
   "cell_type": "markdown",
   "metadata": {},
   "source": [
    "### Random Forest Classifier\n",
    "\n",
    "Random Forest is better suited to Fraud Detection than Decision Trees, since it prevents overfitting most of the time."
   ]
  },
  {
   "cell_type": "markdown",
   "metadata": {},
   "source": [
    "#### Baseline Model"
   ]
  },
  {
   "cell_type": "code",
   "execution_count": 24,
   "metadata": {},
   "outputs": [
    {
     "name": "stderr",
     "output_type": "stream",
     "text": [
      "/anaconda3/lib/python3.7/site-packages/sklearn/ensemble/forest.py:245: FutureWarning: The default value of n_estimators will change from 10 in version 0.20 to 100 in 0.22.\n",
      "  \"10 in version 0.20 to 100 in 0.22.\", FutureWarning)\n"
     ]
    },
    {
     "name": "stdout",
     "output_type": "stream",
     "text": [
      "0.9904109589041096\n"
     ]
    }
   ],
   "source": [
    "# Split data into training and test set\n",
    "X_train, X_test, y_train, y_test = train_test_split(X, y, test_size=.3, random_state=0)\n",
    "\n",
    "# Define the model as the random forest\n",
    "model = RandomForestClassifier(random_state=5)\n",
    "\n",
    "# Fit the model to our training set\n",
    "model.fit(X_train, y_train)\n",
    "\n",
    "# Obtain predictions from the test data \n",
    "predicted = model.predict(X_test)\n",
    "\n",
    "# Print the accuracy performance metric\n",
    "print(accuracy_score(y_test, predicted))\n",
    "# print(model.score(X_test, y_test)) (same as above code)"
   ]
  },
  {
   "cell_type": "code",
   "execution_count": 26,
   "metadata": {},
   "outputs": [
    {
     "name": "stdout",
     "output_type": "stream",
     "text": [
      "0.9338879319822626\n",
      "[[2096    3]\n",
      " [  18   73]]\n",
      "              precision    recall  f1-score   support\n",
      "\n",
      "         0.0       0.99      1.00      1.00      2099\n",
      "         1.0       0.96      0.80      0.87        91\n",
      "\n",
      "    accuracy                           0.99      2190\n",
      "   macro avg       0.98      0.90      0.93      2190\n",
      "weighted avg       0.99      0.99      0.99      2190\n",
      "\n"
     ]
    }
   ],
   "source": [
    "# Obtain the predictions from the random forest model \n",
    "predicted = model.predict(X_test)\n",
    "\n",
    "# Predict probabilities\n",
    "probs = model.predict_proba(X_test)\n",
    "\n",
    "# Print the ROC curve, classification report and confusion matrix\n",
    "print(roc_auc_score(y_test, probs[:,1]))\n",
    "print(confusion_matrix(y_test, predicted))\n",
    "print(classification_report(y_test, predicted))"
   ]
  },
  {
   "cell_type": "code",
   "execution_count": 28,
   "metadata": {},
   "outputs": [
    {
     "data": {
      "text/plain": [
       "91.0"
      ]
     },
     "execution_count": 28,
     "metadata": {},
     "output_type": "execute_result"
    }
   ],
   "source": [
    "sum(y_test)"
   ]
  },
  {
   "cell_type": "markdown",
   "metadata": {},
   "source": [
    "The model predicts 76 cases of fraud, out of which 73 are true positives (actual fraud) and 3 are false positives. The model does not catch 18 cases of actual fraud. Recall is therefore not as good as precision. \n",
    "![](https://3.bp.blogspot.com/--jLXutUe5Ss/VvPIO6ZH2tI/AAAAAAAACkU/pvVL4L-a70gnFEURcfBbL_R-GnhBR6f1Q/s1600/ConfusionMatrix.png)"
   ]
  },
  {
   "cell_type": "code",
   "execution_count": 43,
   "metadata": {},
   "outputs": [
    {
     "data": {
      "text/plain": [
       "Text(0.5, 1.0, 'Precision-Recall Curve')"
      ]
     },
     "execution_count": 43,
     "metadata": {},
     "output_type": "execute_result"
    },
    {
     "data": {
      "image/png": "[encoded data removed]",
      "text/plain": [
       "<Figure size 432x288 with 1 Axes>"
      ]
     },
     "metadata": {
      "needs_background": "light"
     },
     "output_type": "display_data"
    }
   ],
   "source": [
    "# Calculate average precision and the PR curve\n",
    "average_precision = average_precision_score(y_test, predicted)\n",
    "\n",
    "# Obtain precision and recall \n",
    "precision, recall, _ = precision_recall_curve(y_test, predicted)\n",
    "\n",
    "# Plot the ROC curve\n",
    "plt.plot(recall, precision)\n",
    "\n",
    "# Set the labels and the title\n",
    "plt.xlabel('Recall')\n",
    "plt.ylabel('Precision')\n",
    "plt.title('Precision-Recall Curve')"
   ]
  },
  {
   "cell_type": "code",
   "execution_count": 41,
   "metadata": {},
   "outputs": [
    {
     "data": {
      "image/png": "[encoded data removed]",
      "text/plain": [
       "<Figure size 432x288 with 1 Axes>"
      ]
     },
     "metadata": {
      "needs_background": "light"
     },
     "output_type": "display_data"
    }
   ],
   "source": [
    "def plot_pr_curve(recall, precision, average_precision):\n",
    "    plt.step(recall, precision, color='b', alpha=0.2, where='post')\n",
    "    plt.fill_between(recall, precision, step='post', alpha=0.2, color='b')\n",
    "    plt.xlabel('Recall')\n",
    "    plt.ylabel('Precision')\n",
    "    plt.ylim([0.0, 1.05])\n",
    "    plt.xlim([0.0, 1.0])\n",
    "    plt.title('2-class Precision-Recall curve: AP={0:0.2f}'.format(average_precision)) \n",
    "    plt.show()\n",
    "    \n",
    "# Plot the recall precision tradeoff\n",
    "plot_pr_curve(recall, precision, average_precision)"
   ]
  },
  {
   "cell_type": "markdown",
   "metadata": {},
   "source": [
    "#### Adjusting the Model"
   ]
  },
  {
   "cell_type": "markdown",
   "metadata": {},
   "source": [
    "We can use `class_weight` parameter in our `classsifier` to deal with highly imbalanced fraud data. We can either choose “balanced” or “balanced_subsample”.\n",
    "\n",
    "> The “balanced” mode uses the values of y to automatically adjust weights inversely proportional to class frequencies in the input data as n_samples / (n_classes * np.bincount(y)) \n",
    "\n",
    "> The “balanced_subsample” mode is the same as “balanced” except that weights are computed based on the bootstrap sample for every tree grown."
   ]
  },
  {
   "cell_type": "code",
   "execution_count": 49,
   "metadata": {},
   "outputs": [
    {
     "name": "stdout",
     "output_type": "stream",
     "text": [
      "0.9347962661445273\n",
      "[[2098    1]\n",
      " [  19   72]]\n",
      "              precision    recall  f1-score   support\n",
      "\n",
      "         0.0       0.99      1.00      1.00      2099\n",
      "         1.0       0.99      0.79      0.88        91\n",
      "\n",
      "    accuracy                           0.99      2190\n",
      "   macro avg       0.99      0.90      0.94      2190\n",
      "weighted avg       0.99      0.99      0.99      2190\n",
      "\n"
     ]
    },
    {
     "name": "stderr",
     "output_type": "stream",
     "text": [
      "/anaconda3/lib/python3.7/site-packages/sklearn/ensemble/forest.py:245: FutureWarning: The default value of n_estimators will change from 10 in version 0.20 to 100 in 0.22.\n",
      "  \"10 in version 0.20 to 100 in 0.22.\", FutureWarning)\n"
     ]
    }
   ],
   "source": [
    "# Define the model with balanced subsample\n",
    "model = RandomForestClassifier(class_weight='balanced_subsample', random_state=5)\n",
    "\n",
    "# Fit the training model to the training set\n",
    "model.fit(X_train, y_train)\n",
    "\n",
    "# Obtain the predicted values and probabilities from the model \n",
    "predicted = model.predict(X_test)\n",
    "probs = model.predict_proba(X_test)\n",
    "\n",
    "# Print the roc_auc_score, the classification report and confusion matrix\n",
    "print(roc_auc_score(y_test, probs[:,1]))\n",
    "print(confusion_matrix(y_test, predicted))\n",
    "print(classification_report(y_test, predicted))"
   ]
  },
  {
   "cell_type": "markdown",
   "metadata": {},
   "source": [
    "The model results does not appear to improve drastically after changing the `class_weight` parameter."
   ]
  },
  {
   "cell_type": "code",
   "execution_count": 72,
   "metadata": {},
   "outputs": [],
   "source": [
    "# Change the model options\n",
    "model = RandomForestClassifier(bootstrap=True, class_weight={0:1, 1:12}, criterion='entropy',\n",
    "                                # Change depth of model\n",
    "                                max_depth=10,\n",
    "                                # Change the number of samples in leaf nodes\n",
    "                                min_samples_leaf=10, \n",
    "                                # Change the number of trees to use\n",
    "                                n_estimators=20, n_jobs=-1, random_state=5)\n"
   ]
  },
  {
   "cell_type": "code",
   "execution_count": 96,
   "metadata": {},
   "outputs": [
    {
     "name": "stdout",
     "output_type": "stream",
     "text": [
      "[[2052   47]\n",
      " [  11   80]]\n",
      "              precision    recall  f1-score   support\n",
      "\n",
      "         0.0       0.99      0.98      0.99      2099\n",
      "         1.0       0.63      0.88      0.73        91\n",
      "\n",
      "    accuracy                           0.97      2190\n",
      "   macro avg       0.81      0.93      0.86      2190\n",
      "weighted avg       0.98      0.97      0.98      2190\n",
      "\n"
     ]
    },
    {
     "name": "stderr",
     "output_type": "stream",
     "text": [
      "/anaconda3/lib/python3.7/site-packages/sklearn/linear_model/logistic.py:432: FutureWarning: Default solver will be changed to 'lbfgs' in 0.22. Specify a solver to silence this warning.\n",
      "  FutureWarning)\n"
     ]
    }
   ],
   "source": [
    "def get_model_results(X_train, y_train, X_test, y_test, model):\n",
    "    model.fit(X_train, y_train)\n",
    "    predicted = model.predict(X_test)\n",
    "#    probs = model.predict_proba(X_test)\n",
    "    print (confusion_matrix(y_test, predicted))\n",
    "    print (classification_report(y_test, predicted))\n",
    "\n",
    "\n",
    "# Run the function get_model_results\n",
    "get_model_results(X_train, y_train, X_test, y_test, model)"
   ]
  },
  {
   "cell_type": "markdown",
   "metadata": {},
   "source": [
    "#### Grid Search\n",
    "\n",
    "\n",
    "For fraud detection we are mostly interested in catching as many fraud cases as possible. Therefore we'll adjust the  model settings to get the best possible Recall score. We can also choose to optimize F1-Score to get a Precision-Recall trade-off and reduce the number of false positives. Grid Search will help us to investigate a range of Hyperparameters."
   ]
  },
  {
   "cell_type": "code",
   "execution_count": 87,
   "metadata": {},
   "outputs": [
    {
     "data": {
      "text/plain": [
       "{'criterion': 'gini',\n",
       " 'max_depth': 8,\n",
       " 'max_features': 'auto',\n",
       " 'min_samples_leaf': 20,\n",
       " 'n_estimators': 10}"
      ]
     },
     "execution_count": 87,
     "metadata": {},
     "output_type": "execute_result"
    }
   ],
   "source": [
    "# Define the parameter sets to test\n",
    "param_grid = {'n_estimators': [10, 20, 30], \n",
    "              'max_features': ['auto', 'log2'],  \n",
    "              'max_depth': [4, 8, 10], \n",
    "              'min_samples_leaf': [1, 10, 20], \n",
    "              'criterion': ['gini', 'entropy']\n",
    "}\n",
    "\n",
    "# Define the model to use\n",
    "model = RandomForestClassifier(class_weight={0:1, 1:12}, random_state=5)\n",
    "\n",
    "# Combine the parameter sets with the defined model\n",
    "CV_model = GridSearchCV(estimator=model, param_grid=param_grid, cv=5, scoring='recall', n_jobs=-1)\n",
    "\n",
    "# Fit the model to our training data and obtain best parameters\n",
    "CV_model.fit(X_train, y_train)\n",
    "CV_model.best_params_"
   ]
  },
  {
   "cell_type": "code",
   "execution_count": 88,
   "metadata": {},
   "outputs": [
    {
     "data": {
      "text/plain": [
       "RandomForestClassifier(bootstrap=True, class_weight={0: 1, 1: 12},\n",
       "                       criterion='gini', max_depth=8, max_features='auto',\n",
       "                       max_leaf_nodes=None, min_impurity_decrease=0.0,\n",
       "                       min_impurity_split=None, min_samples_leaf=20,\n",
       "                       min_samples_split=2, min_weight_fraction_leaf=0.0,\n",
       "                       n_estimators=10, n_jobs=None, oob_score=False,\n",
       "                       random_state=5, verbose=0, warm_start=False)"
      ]
     },
     "execution_count": 88,
     "metadata": {},
     "output_type": "execute_result"
    }
   ],
   "source": [
    "CV_model.best_estimator_"
   ]
  },
  {
   "cell_type": "code",
   "execution_count": 89,
   "metadata": {},
   "outputs": [
    {
     "data": {
      "text/plain": [
       "0.8562146141450231"
      ]
     },
     "execution_count": 89,
     "metadata": {},
     "output_type": "execute_result"
    }
   ],
   "source": [
    "CV_model.best_score_"
   ]
  },
  {
   "cell_type": "code",
   "execution_count": 90,
   "metadata": {},
   "outputs": [
    {
     "name": "stdout",
     "output_type": "stream",
     "text": [
      "[[2090    9]\n",
      " [  14   77]]\n",
      "              precision    recall  f1-score   support\n",
      "\n",
      "         0.0       0.99      1.00      0.99      2099\n",
      "         1.0       0.90      0.85      0.87        91\n",
      "\n",
      "    accuracy                           0.99      2190\n",
      "   macro avg       0.94      0.92      0.93      2190\n",
      "weighted avg       0.99      0.99      0.99      2190\n",
      "\n"
     ]
    }
   ],
   "source": [
    "# Change the model options\n",
    "model = RandomForestClassifier(class_weight={0:1, 1:12}, criterion='gini',\n",
    "                                max_depth=4, min_samples_leaf=20, max_features= 'auto',\n",
    "                                n_estimators=20, n_jobs=-1, random_state=5)\n",
    "\n",
    "# Get results from your model\n",
    "get_model_results(X_train, y_train, X_test, y_test, model)"
   ]
  },
  {
   "cell_type": "markdown",
   "metadata": {},
   "source": [
    "### Ensembling\n",
    "\n",
    "We can combine different algorithms/classifiers into one model to improve performance and to have a robost model. `VotingClassifier` is an option for ensembling.\n",
    "\n",
    "For instance, the Logistic Regression may be worse in terms of false positives, and the Random Forest may be worse in terms of false negatives. By combining these together we may have a chance to improve performance."
   ]
  },
  {
   "cell_type": "code",
   "execution_count": 104,
   "metadata": {},
   "outputs": [
    {
     "name": "stdout",
     "output_type": "stream",
     "text": [
      "[[2060   39]\n",
      " [  13   78]]\n",
      "              precision    recall  f1-score   support\n",
      "\n",
      "         0.0       0.99      0.98      0.99      2099\n",
      "         1.0       0.67      0.86      0.75        91\n",
      "\n",
      "    accuracy                           0.98      2190\n",
      "   macro avg       0.83      0.92      0.87      2190\n",
      "weighted avg       0.98      0.98      0.98      2190\n",
      "\n"
     ]
    },
    {
     "name": "stderr",
     "output_type": "stream",
     "text": [
      "/anaconda3/lib/python3.7/site-packages/sklearn/linear_model/logistic.py:432: FutureWarning: Default solver will be changed to 'lbfgs' in 0.22. Specify a solver to silence this warning.\n",
      "  FutureWarning)\n"
     ]
    }
   ],
   "source": [
    "# Define the Logistic Regression model with weights\n",
    "model = LogisticRegression(class_weight={0:1, 1:12}, random_state=5)\n",
    "\n",
    "# Get the model results\n",
    "get_model_results(X_train, y_train, X_test, y_test, model)"
   ]
  },
  {
   "cell_type": "markdown",
   "metadata": {},
   "source": [
    "Logistic Regression model has a better recall, however more false positives. Ensembling it with Random Forest might be useful."
   ]
  },
  {
   "cell_type": "code",
   "execution_count": 105,
   "metadata": {},
   "outputs": [
    {
     "name": "stderr",
     "output_type": "stream",
     "text": [
      "/anaconda3/lib/python3.7/site-packages/sklearn/linear_model/logistic.py:432: FutureWarning: Default solver will be changed to 'lbfgs' in 0.22. Specify a solver to silence this warning.\n",
      "  FutureWarning)\n"
     ]
    },
    {
     "name": "stdout",
     "output_type": "stream",
     "text": [
      "[[2091    8]\n",
      " [  15   76]]\n",
      "              precision    recall  f1-score   support\n",
      "\n",
      "         0.0       0.99      1.00      0.99      2099\n",
      "         1.0       0.90      0.84      0.87        91\n",
      "\n",
      "    accuracy                           0.99      2190\n",
      "   macro avg       0.95      0.92      0.93      2190\n",
      "weighted avg       0.99      0.99      0.99      2190\n",
      "\n"
     ]
    }
   ],
   "source": [
    "# Define the three classifiers to use in the ensemble\n",
    "clf1 = LogisticRegression(class_weight={0:1, 1:12}, random_state=5)\n",
    "clf2 = RandomForestClassifier(class_weight={0:1, 1:12}, criterion='gini', max_depth=8, max_features='log2',\n",
    "            min_samples_leaf=10, n_estimators=30, n_jobs=-1, random_state=5)\n",
    "clf3 = DecisionTreeClassifier(random_state=5, class_weight={0:1, 1:12})\n",
    "\n",
    "# Combine the classifiers in the ensemble model\n",
    "ensemble_model = VotingClassifier(estimators=[('lr', clf1), ('rf', clf2), ('dt', clf3)], voting='hard')\n",
    "\n",
    "# Get the results \n",
    "get_model_results(X_train, y_train, X_test, y_test, ensemble_model)"
   ]
  },
  {
   "cell_type": "markdown",
   "metadata": {},
   "source": [
    "#### Adjusting Voting Classifier\n",
    "\n",
    "We can adjust the `weights` we give to the models with Voting Classifier. If we think that a particular model is more important than the others, we can give it a higher weight relative to the others. With trying different weights, we can find a good mix for the model."
   ]
  },
  {
   "cell_type": "code",
   "execution_count": 106,
   "metadata": {},
   "outputs": [
    {
     "name": "stderr",
     "output_type": "stream",
     "text": [
      "/anaconda3/lib/python3.7/site-packages/sklearn/linear_model/logistic.py:432: FutureWarning: Default solver will be changed to 'lbfgs' in 0.22. Specify a solver to silence this warning.\n",
      "  FutureWarning)\n"
     ]
    },
    {
     "name": "stdout",
     "output_type": "stream",
     "text": [
      "[[2095    4]\n",
      " [  15   76]]\n",
      "              precision    recall  f1-score   support\n",
      "\n",
      "         0.0       0.99      1.00      1.00      2099\n",
      "         1.0       0.95      0.84      0.89        91\n",
      "\n",
      "    accuracy                           0.99      2190\n",
      "   macro avg       0.97      0.92      0.94      2190\n",
      "weighted avg       0.99      0.99      0.99      2190\n",
      "\n"
     ]
    }
   ],
   "source": [
    "# Define the ensemble model\n",
    "ensemble_model = VotingClassifier(estimators=[('lr', clf1), ('rf', clf2), ('gnb', clf3)], voting='soft', weights=[1, 4, 1], flatten_transform=True)\n",
    "\n",
    "# Get results a\n",
    "get_model_results(X_train, y_train, X_test, y_test, ensemble_model)"
   ]
  },
  {
   "cell_type": "markdown",
   "metadata": {
    "toc-hr-collapsed": true
   },
   "source": [
    "## Unlabelled Data\n",
    "\n",
    "In this section, we'll flag _potentially_ fraudulent transactions using unsupervised learning. Customer segmentation method and clustering algorithms will be used."
   ]
  },
  {
   "cell_type": "code",
   "execution_count": 111,
   "metadata": {},
   "outputs": [],
   "source": [
    "df = pd.read_csv(\"datasets/banksim.csv\", index_col=0)"
   ]
  },
  {
   "cell_type": "markdown",
   "metadata": {},
   "source": [
    "### EDA"
   ]
  },
  {
   "cell_type": "code",
   "execution_count": 112,
   "metadata": {},
   "outputs": [
    {
     "data": {
      "text/plain": [
       "(7200, 5)"
      ]
     },
     "execution_count": 112,
     "metadata": {},
     "output_type": "execute_result"
    }
   ],
   "source": [
    "# Get the dataframe shape\n",
    "df.shape"
   ]
  },
  {
   "cell_type": "code",
   "execution_count": 113,
   "metadata": {},
   "outputs": [
    {
     "data": {
      "text/html": [
       "<div>\n",
       "<style scoped>\n",
       "    .dataframe tbody tr th:only-of-type {\n",
       "        vertical-align: middle;\n",
       "    }\n",
       "\n",
       "    .dataframe tbody tr th {\n",
       "        vertical-align: top;\n",
       "    }\n",
       "\n",
       "    .dataframe thead th {\n",
       "        text-align: right;\n",
       "    }\n",
       "</style>\n",
       "<table border=\"1\" class=\"dataframe\">\n",
       "  <thead>\n",
       "    <tr style=\"text-align: right;\">\n",
       "      <th></th>\n",
       "      <th>age</th>\n",
       "      <th>gender</th>\n",
       "      <th>category</th>\n",
       "      <th>amount</th>\n",
       "      <th>fraud</th>\n",
       "    </tr>\n",
       "  </thead>\n",
       "  <tbody>\n",
       "    <tr>\n",
       "      <th>171915</th>\n",
       "      <td>3</td>\n",
       "      <td>F</td>\n",
       "      <td>es_transportation</td>\n",
       "      <td>49.71</td>\n",
       "      <td>0</td>\n",
       "    </tr>\n",
       "    <tr>\n",
       "      <th>426989</th>\n",
       "      <td>4</td>\n",
       "      <td>F</td>\n",
       "      <td>es_health</td>\n",
       "      <td>39.29</td>\n",
       "      <td>0</td>\n",
       "    </tr>\n",
       "    <tr>\n",
       "      <th>310539</th>\n",
       "      <td>3</td>\n",
       "      <td>F</td>\n",
       "      <td>es_transportation</td>\n",
       "      <td>18.76</td>\n",
       "      <td>0</td>\n",
       "    </tr>\n",
       "    <tr>\n",
       "      <th>215216</th>\n",
       "      <td>4</td>\n",
       "      <td>M</td>\n",
       "      <td>es_transportation</td>\n",
       "      <td>13.95</td>\n",
       "      <td>0</td>\n",
       "    </tr>\n",
       "    <tr>\n",
       "      <th>569244</th>\n",
       "      <td>2</td>\n",
       "      <td>M</td>\n",
       "      <td>es_transportation</td>\n",
       "      <td>49.87</td>\n",
       "      <td>0</td>\n",
       "    </tr>\n",
       "  </tbody>\n",
       "</table>\n",
       "</div>"
      ],
      "text/plain": [
       "       age gender           category  amount  fraud\n",
       "171915   3      F  es_transportation   49.71      0\n",
       "426989   4      F          es_health   39.29      0\n",
       "310539   3      F  es_transportation   18.76      0\n",
       "215216   4      M  es_transportation   13.95      0\n",
       "569244   2      M  es_transportation   49.87      0"
      ]
     },
     "execution_count": 113,
     "metadata": {},
     "output_type": "execute_result"
    }
   ],
   "source": [
    "# Get the dataframe shape\n",
    "df.head()"
   ]
  },
  {
   "cell_type": "code",
   "execution_count": 149,
   "metadata": {},
   "outputs": [
    {
     "name": "stdout",
     "output_type": "stream",
     "text": [
      "<class 'pandas.core.frame.DataFrame'>\n",
      "Int64Index: 7189 entries, 171915 to 579286\n",
      "Data columns (total 5 columns):\n",
      "age         7189 non-null int64\n",
      "gender      7189 non-null object\n",
      "category    7189 non-null object\n",
      "amount      7189 non-null float64\n",
      "fraud       7189 non-null int64\n",
      "dtypes: float64(1), int64(2), object(2)\n",
      "memory usage: 337.0+ KB\n"
     ]
    }
   ],
   "source": [
    "# Get the dataframe info\n",
    "df.info()"
   ]
  },
  {
   "cell_type": "code",
   "execution_count": 136,
   "metadata": {},
   "outputs": [
    {
     "data": {
      "text/plain": [
       "age          object\n",
       "gender       object\n",
       "category     object\n",
       "amount      float64\n",
       "fraud         int64\n",
       "dtype: object"
      ]
     },
     "execution_count": 136,
     "metadata": {},
     "output_type": "execute_result"
    }
   ],
   "source": [
    "df.infer_objects().dtypes"
   ]
  },
  {
   "cell_type": "code",
   "execution_count": 143,
   "metadata": {},
   "outputs": [
    {
     "data": {
      "text/plain": [
       "age           int64\n",
       "gender       object\n",
       "category     object\n",
       "amount      float64\n",
       "fraud         int64\n",
       "dtype: object"
      ]
     },
     "execution_count": 143,
     "metadata": {},
     "output_type": "execute_result"
    }
   ],
   "source": [
    "df.apply(pd.to_numeric, errors='ignore').dtypes"
   ]
  },
  {
   "cell_type": "code",
   "execution_count": 139,
   "metadata": {},
   "outputs": [
    {
     "data": {
      "text/plain": [
       "2    2333\n",
       "3    1718\n",
       "4    1279\n",
       "5     792\n",
       "1     713\n",
       "6     314\n",
       "0      40\n",
       "U      11\n",
       "Name: age, dtype: int64"
      ]
     },
     "execution_count": 139,
     "metadata": {},
     "output_type": "execute_result"
    }
   ],
   "source": [
    "df.age.value_counts()"
   ]
  },
  {
   "cell_type": "code",
   "execution_count": 144,
   "metadata": {},
   "outputs": [
    {
     "data": {
      "text/plain": [
       "2    2333\n",
       "3    1718\n",
       "4    1279\n",
       "5     792\n",
       "1     713\n",
       "6     314\n",
       "0      40\n",
       "Name: age, dtype: int64"
      ]
     },
     "execution_count": 144,
     "metadata": {},
     "output_type": "execute_result"
    }
   ],
   "source": [
    "# Drop the rows with unknown age values\n",
    "df = df[df.age != 'U']\n",
    "df.age.value_counts()"
   ]
  },
  {
   "cell_type": "code",
   "execution_count": 147,
   "metadata": {},
   "outputs": [],
   "source": [
    "df = df.apply(pd.to_numeric, errors='ignore')\n",
    "# df.age.astype('int64')"
   ]
  },
  {
   "cell_type": "code",
   "execution_count": 148,
   "metadata": {},
   "outputs": [
    {
     "data": {
      "text/plain": [
       "age           int64\n",
       "gender       object\n",
       "category     object\n",
       "amount      float64\n",
       "fraud         int64\n",
       "dtype: object"
      ]
     },
     "execution_count": 148,
     "metadata": {},
     "output_type": "execute_result"
    }
   ],
   "source": [
    "df.dtypes"
   ]
  },
  {
   "cell_type": "code",
   "execution_count": 117,
   "metadata": {},
   "outputs": [
    {
     "name": "stdout",
     "output_type": "stream",
     "text": [
      "                           amount     fraud\n",
      "category                                   \n",
      "es_contents             55.170000  0.000000\n",
      "es_food                 35.216050  0.000000\n",
      "es_transportation       27.422014  0.000000\n",
      "es_fashion              59.780769  0.020619\n",
      "es_barsandrestaurants   43.841793  0.022472\n",
      "es_wellnessandbeauty    66.167078  0.060606\n",
      "es_hyper                46.788180  0.125000\n",
      "es_tech                132.852862  0.179487\n",
      "es_home                120.688317  0.208333\n",
      "es_health              126.604704  0.242798\n",
      "es_hotelservices       172.756245  0.548387\n",
      "es_otherservices       149.648960  0.600000\n",
      "es_sportsandtoys       157.251737  0.657895\n",
      "es_travel              231.818656  0.944444\n",
      "es_leisure             229.757600  1.000000\n"
     ]
    }
   ],
   "source": [
    "# Groupby categories and take the mean\n",
    "print(df.groupby('category').mean().sort_values('fraud'))"
   ]
  },
  {
   "cell_type": "markdown",
   "metadata": {},
   "source": [
    "The means suggest that fraud is more prevalent in travel, leisure and sports related transactions (or categories). There seems to be no fraud in categories contents, food and transportation."
   ]
  },
  {
   "cell_type": "markdown",
   "metadata": {},
   "source": [
    "### Customer Segmentation\n",
    "\n",
    "There may or may not be some obvious patterns in the data. "
   ]
  },
  {
   "cell_type": "code",
   "execution_count": 125,
   "metadata": {},
   "outputs": [
    {
     "name": "stdout",
     "output_type": "stream",
     "text": [
      "        amount     fraud\n",
      "age                     \n",
      "U    39.117000  0.000000\n",
      "6    36.700852  0.022293\n",
      "3    37.279338  0.023283\n",
      "5    37.547521  0.023990\n",
      "1    35.622829  0.026648\n",
      "2    37.228665  0.028718\n",
      "4    36.197985  0.035966\n",
      "0    49.468935  0.050000 \n",
      "\n",
      "2    2333\n",
      "3    1718\n",
      "4    1279\n",
      "5     792\n",
      "1     713\n",
      "6     314\n",
      "0      40\n",
      "U      11\n",
      "Name: age, dtype: int64\n"
     ]
    }
   ],
   "source": [
    "# Group by age groups and get the mean\n",
    "print(df.groupby('age').mean().sort_values('fraud'), '\\n')\n",
    "\n",
    "# Count the values of the observations in each age group\n",
    "print(df['age'].value_counts())"
   ]
  },
  {
   "cell_type": "markdown",
   "metadata": {},
   "source": [
    "Average fraud occurence and average amount spent across  largest age groups (2,3,4,5) are relatively similar. Based on the results, it does not make sense to divide the data into age segments before running a fraud detection algorithm. For instance, it is not feasible to split `age=0` into a seperate group, since there are only 40 observations. \n",
    "\n",
    "_Note: if we were given client information, we would distinguish between wealth levels of different clients. However, this information is not given in the dataset._"
   ]
  },
  {
   "cell_type": "code",
   "execution_count": 127,
   "metadata": {},
   "outputs": [
    {
     "data": {
      "image/png": "[encoded data removed]",
      "text/plain": [
       "<Figure size 432x288 with 1 Axes>"
      ]
     },
     "metadata": {
      "needs_background": "light"
     },
     "output_type": "display_data"
    }
   ],
   "source": [
    "# Create two dataframes with fraud and non-fraud data \n",
    "df_fraud = df.loc[df.fraud == 1] \n",
    "df_non_fraud = df.loc[df.fraud == 0]\n",
    "\n",
    "# Plot histograms of the amounts in fraud and non-fraud data \n",
    "plt.hist(df_fraud.amount, alpha=0.5, label='fraud')\n",
    "plt.hist(df_non_fraud.amount, alpha=0.5, label='non-fraud')\n",
    "plt.legend()\n",
    "plt.show()"
   ]
  },
  {
   "cell_type": "markdown",
   "metadata": {},
   "source": [
    "The fraudulent transactions tend to be larger relative to non-fraudulent obervations. This amy help us distinguish between normal and abnormal transactions, when the label column is not available."
   ]
  },
  {
   "cell_type": "markdown",
   "metadata": {
    "toc-hr-collapsed": false
   },
   "source": [
    "### Clustering"
   ]
  },
  {
   "cell_type": "markdown",
   "metadata": {},
   "source": [
    "#### K-means\n",
    "\n",
    "The KMeans algorithm clusters data by trying to separate samples in _n_ groups of equal variance, minimizing a criterion known as the inertia or within-cluster sum-of-squares. This algorithm requires the number of clusters to be specified.\n",
    "\n",
    "K-means uses the Euclidian distance to assess distance to cluster centroids. Therefore we need to **scale** the data first."
   ]
  },
  {
   "cell_type": "code",
   "execution_count": 150,
   "metadata": {},
   "outputs": [],
   "source": [
    "# Import the scaler\n",
    "from sklearn.preprocessing import MinMaxScaler\n",
    "\n",
    "X = df.drop('fraud', axis=1)\n",
    "y = df.fraud\n",
    "\n",
    "# Take the float values of df for X\n",
    "X = pd.get_dummies(X).values.astype(np.float)\n",
    "\n",
    "# Define the scaler and apply to the data\n",
    "scaler = MinMaxScaler()\n",
    "X_scaled = scaler.fit_transform(X)"
   ]
  },
  {
   "cell_type": "markdown",
   "metadata": {},
   "source": [
    "The MiniBatchKMeans is an efficient way to implement K-means on a large dataset. It is a variant of the KMeans algorithm which uses mini-batches to reduce the computation time, while still attempting to optimise the same objective function.\n",
    "\n",
    "MiniBatchKMeans converges faster than KMeans, but the quality of the results is reduced. In practice this difference in quality can be quite small though."
   ]
  },
  {
   "cell_type": "markdown",
   "metadata": {},
   "source": [
    "We can use _elbow method_ to find the optimal number of clusters required."
   ]
  },
  {
   "cell_type": "code",
   "execution_count": 153,
   "metadata": {},
   "outputs": [
    {
     "data": {
      "image/png": "[encoded data removed]",
      "text/plain": [
       "<Figure size 432x288 with 1 Axes>"
      ]
     },
     "metadata": {
      "needs_background": "light"
     },
     "output_type": "display_data"
    }
   ],
   "source": [
    "# Define the range of clusters to try\n",
    "num_clusters = range(1, 10)\n",
    "\n",
    "# Run MiniBatch Kmeans over the number of clusters\n",
    "kmeans = [MiniBatchKMeans(n_clusters=i) for i in num_clusters]\n",
    "\n",
    "# Obtain the score for each model\n",
    "score = [kmeans[i].fit(X_scaled).score(X_scaled) for i in range(len(kmeans))]\n",
    "\n",
    "# Plot the models and their respective score \n",
    "plt.plot(num_clusters, score)\n",
    "plt.xlabel('Number of Clusters')\n",
    "plt.ylabel('Score')\n",
    "plt.title('Elbow Curve')\n",
    "plt.show()"
   ]
  },
  {
   "cell_type": "markdown",
   "metadata": {},
   "source": [
    "Optimal number of clusters appear to be 3 or 4. This value will be used in the baseline model."
   ]
  },
  {
   "cell_type": "markdown",
   "metadata": {},
   "source": [
    "### Detecting Outliers\n",
    "\n",
    "Detecting outliers and determining the _cut-off_ for them is important for fraud detection. We'll now use K-means with optimal number of clusters and investigate the observations and their disctance from the cluster centroids. Additionally, we'll define the boundary between fraud and non-fraud to be at 95% of distance distribution and higher."
   ]
  },
  {
   "cell_type": "code",
   "execution_count": 157,
   "metadata": {},
   "outputs": [],
   "source": [
    "# Split the data into training and test set\n",
    "X_train, X_test, y_train, y_test = train_test_split(X_scaled, y, test_size=0.3, random_state=0)\n",
    "\n",
    "# Define K-means model \n",
    "kmeans = MiniBatchKMeans(n_clusters=3, random_state=42).fit(X_train)\n",
    "\n",
    "# Obtain predictions and calculate distance from cluster centroid\n",
    "X_test_clusters = kmeans.predict(X_test)\n",
    "X_test_clusters_centers = kmeans.cluster_centers_\n",
    "dist = [np.linalg.norm(x-y) for x, y in zip(X_test, X_test_clusters_centers[X_test_clusters])]\n",
    "\n",
    "# Create fraud predictions based on outliers on clusters \n",
    "km_y_pred = np.array(dist)\n",
    "km_y_pred[dist >= np.percentile(dist, 95)] = 1\n",
    "km_y_pred[dist < np.percentile(dist, 95)] = 0"
   ]
  },
  {
   "cell_type": "code",
   "execution_count": 158,
   "metadata": {},
   "outputs": [
    {
     "name": "stdout",
     "output_type": "stream",
     "text": [
      "0.66916922672537\n"
     ]
    }
   ],
   "source": [
    "# Obtain the ROC score\n",
    "print(roc_auc_score(y_test, km_y_pred))"
   ]
  },
  {
   "cell_type": "code",
   "execution_count": 156,
   "metadata": {},
   "outputs": [
    {
     "data": {
      "text/plain": [
       "array([[2013,   86],\n",
       "       [  36,   22]])"
      ]
     },
     "execution_count": 156,
     "metadata": {},
     "output_type": "execute_result"
    }
   ],
   "source": [
    "# Create a confusion matrix\n",
    "confusion_matrix(y_test, km_y_pred)"
   ]
  },
  {
   "cell_type": "markdown",
   "metadata": {},
   "source": [
    "If we were to decrease the percentile used as a cut-off point  to say 93% instead of 95%, the number of fraud cases caught would increase, but false positives would also increase."
   ]
  },
  {
   "cell_type": "markdown",
   "metadata": {},
   "source": [
    "### DBScan\n",
    "\n",
    "Density based clustering method (DBSCAN) can also be used to detect anomaly or fraud. The number of clusters is not explicitly defined in DBScan. "
   ]
  },
  {
   "cell_type": "code",
   "execution_count": 164,
   "metadata": {},
   "outputs": [
    {
     "name": "stdout",
     "output_type": "stream",
     "text": [
      "Estimated number of clusters: 23\n",
      "Homogeneity: 0.608\n",
      "Silhouette Coefficient: 0.788\n"
     ]
    }
   ],
   "source": [
    "# Import DBSCAN\n",
    "from sklearn.cluster import DBSCAN\n",
    "\n",
    "# Import metrics\n",
    "from sklearn.metrics.cluster import homogeneity_score\n",
    "from sklearn.metrics import silhouette_score\n",
    "\n",
    "# Initialize and fit the DBscan model\n",
    "db = DBSCAN(eps=.9, min_samples=10, n_jobs=-1).fit(X_scaled)\n",
    "\n",
    "# Obtain the predicted labels and calculate number of clusters\n",
    "pred_labels = db.labels_\n",
    "n_clusters = len(set(pred_labels)) - (1 if -1 in y else 0)\n",
    "\n",
    "# Print performance metrics for DBscan\n",
    "print('Estimated number of clusters: %d' % n_clusters)\n",
    "print(\"Homogeneity: %0.3f\" % homogeneity_score(y, pred_labels))\n",
    "print(\"Silhouette Coefficient: %0.3f\" % silhouette_score(X_scaled, pred_labels))"
   ]
  },
  {
   "cell_type": "markdown",
   "metadata": {},
   "source": [
    "There are high number of clusters when compared to the number we specified for K-means. We'll focus on the ones with less number of observations to see if frauds are mainly clustered in those."
   ]
  },
  {
   "cell_type": "code",
   "execution_count": 174,
   "metadata": {},
   "outputs": [
    {
     "data": {
      "text/plain": [
       "array([3249,  144, 2714,   55,  173,  119,  122,   98,   54,   15,   76,\n",
       "         15,   43,   25,   51,   47,   42,   15,   25,   20,   19,   10])"
      ]
     },
     "execution_count": 174,
     "metadata": {},
     "output_type": "execute_result"
    }
   ],
   "source": [
    "# Count observations in each cluster number\n",
    "np.bincount(pred_labels[pred_labels>=0])"
   ]
  },
  {
   "cell_type": "code",
   "execution_count": 176,
   "metadata": {},
   "outputs": [
    {
     "name": "stdout",
     "output_type": "stream",
     "text": [
      "Counts of the smallest clusters:\n",
      "[10 15 15]\n"
     ]
    }
   ],
   "source": [
    "# Count observations in each cluster number\n",
    "counts = np.bincount(pred_labels[pred_labels>=0])\n",
    "\n",
    "# Sort the sample counts of the clusters and take the top 3 smallest clusters\n",
    "smallest_clusters = np.argsort(counts)[:3] # Returns the indices that would sort an array\n",
    "\n",
    "# Print the counts of the smallest clusters only\n",
    "print(\"Counts of the smallest clusters:\")      \n",
    "print(counts[smallest_clusters])"
   ]
  },
  {
   "cell_type": "markdown",
   "metadata": {},
   "source": [
    "> While the parameter `min_samples` primarily controls how tolerant the algorithm is towards noise (on noisy and large data sets it may be desiable to increase this parameter), the parameter `eps` is crucial to choose appropriately for the data set and distance function and usually cannot be left at the default value. It controls the local neighborhood of the points. When chosen **too small**, most data will not be clustered at all (and labeled as `-1` for “noise”). When chosen **too large**, it causes close clusters to be merged into one cluster, and eventually the entire data set to be returned as a single cluster. Some heuristics for choosing this parameter have been discussed in literature, for example based on a knee in the nearest neighbor distances plot. [source](https://scikit-learn.org/stable/modules/clustering.html)"
   ]
  },
  {
   "cell_type": "markdown",
   "metadata": {},
   "source": [
    "### Checking Results"
   ]
  },
  {
   "cell_type": "code",
   "execution_count": 179,
   "metadata": {},
   "outputs": [
    {
     "name": "stdout",
     "output_type": "stream",
     "text": [
      "Flagged Fraud     0   1\n",
      "Actual Fraud           \n",
      "0              6973  16\n",
      "1               176  24\n"
     ]
    }
   ],
   "source": [
    "# Create a dataframe of the predicted cluster numbers and fraud labels \n",
    "df = pd.DataFrame({'clusternr':pred_labels, 'fraud':y})\n",
    "\n",
    "# Create a condition flagging fraud for the smallest clusters \n",
    "df['predicted_fraud'] = np.where((df['clusternr']==21)|(df['clusternr']==17)|(df['clusternr']==9),1 , 0)\n",
    "\n",
    "# Run a crosstab on the results \n",
    "print(pd.crosstab(df['fraud'], df['predicted_fraud'], rownames=['Actual Fraud'], colnames=['Flagged Fraud']))"
   ]
  },
  {
   "cell_type": "markdown",
   "metadata": {},
   "source": [
    "## Text"
   ]
  },
  {
   "cell_type": "markdown",
   "metadata": {},
   "source": [
    "### Word Search\n",
    "\n",
    "_Example: enron scandal case_"
   ]
  },
  {
   "cell_type": "code",
   "execution_count": 3,
   "metadata": {},
   "outputs": [],
   "source": [
    "emails = pd.read_csv(\"datasets/enron_emails_clean.csv\", index_col=0)"
   ]
  },
  {
   "cell_type": "code",
   "execution_count": 4,
   "metadata": {},
   "outputs": [
    {
     "data": {
      "text/html": [
       "<div>\n",
       "<style scoped>\n",
       "    .dataframe tbody tr th:only-of-type {\n",
       "        vertical-align: middle;\n",
       "    }\n",
       "\n",
       "    .dataframe tbody tr th {\n",
       "        vertical-align: top;\n",
       "    }\n",
       "\n",
       "    .dataframe thead th {\n",
       "        text-align: right;\n",
       "    }\n",
       "</style>\n",
       "<table border=\"1\" class=\"dataframe\">\n",
       "  <thead>\n",
       "    <tr style=\"text-align: right;\">\n",
       "      <th></th>\n",
       "      <th>From</th>\n",
       "      <th>To</th>\n",
       "      <th>Date</th>\n",
       "      <th>content</th>\n",
       "      <th>clean_content</th>\n",
       "    </tr>\n",
       "    <tr>\n",
       "      <th>Message-ID</th>\n",
       "      <th></th>\n",
       "      <th></th>\n",
       "      <th></th>\n",
       "      <th></th>\n",
       "      <th></th>\n",
       "    </tr>\n",
       "  </thead>\n",
       "  <tbody>\n",
       "    <tr>\n",
       "      <th>&lt;8345058.1075840404046.JavaMail.evans@thyme&gt;</th>\n",
       "      <td>('advdfeedback@investools.com')</td>\n",
       "      <td>('advdfeedback@investools.com')</td>\n",
       "      <td>2002-01-29 23:20:55</td>\n",
       "      <td>INVESTools Advisory\\nA Free Digest of Trusted ...</td>\n",
       "      <td>investools advisory free digest trusted invest...</td>\n",
       "    </tr>\n",
       "    <tr>\n",
       "      <th>&lt;1512159.1075863666797.JavaMail.evans@thyme&gt;</th>\n",
       "      <td>('richard.sanders@enron.com')</td>\n",
       "      <td>('richard.sanders@enron.com')</td>\n",
       "      <td>2000-09-20 19:07:00</td>\n",
       "      <td>----- Forwarded by Richard B Sanders/HOU/ECT o...</td>\n",
       "      <td>forwarded richard b sanders hou ect pm justin ...</td>\n",
       "    </tr>\n",
       "    <tr>\n",
       "      <th>&lt;26118676.1075862176383.JavaMail.evans@thyme&gt;</th>\n",
       "      <td>('m..love@enron.com')</td>\n",
       "      <td>('m..love@enron.com')</td>\n",
       "      <td>2001-10-30 16:15:17</td>\n",
       "      <td>hey you are not wearing your target purple shi...</td>\n",
       "      <td>hey wearing target purple shirt today mine wan...</td>\n",
       "    </tr>\n",
       "    <tr>\n",
       "      <th>&lt;10369289.1075860831062.JavaMail.evans@thyme&gt;</th>\n",
       "      <td>('leslie.milosevich@kp.org')</td>\n",
       "      <td>('leslie.milosevich@kp.org')</td>\n",
       "      <td>2002-01-30 17:54:18</td>\n",
       "      <td>Leslie Milosevich\\n1042 Santa Clara Avenue\\nAl...</td>\n",
       "      <td>leslie milosevich santa clara avenue alameda c...</td>\n",
       "    </tr>\n",
       "    <tr>\n",
       "      <th>&lt;26728895.1075860815046.JavaMail.evans@thyme&gt;</th>\n",
       "      <td>('rtwait@graphicaljazz.com')</td>\n",
       "      <td>('rtwait@graphicaljazz.com')</td>\n",
       "      <td>2002-01-30 19:36:01</td>\n",
       "      <td>Rini Twait\\n1010 E 5th Ave\\nLongmont, CO 80501...</td>\n",
       "      <td>rini twait e th ave longmont co rtwait graphic...</td>\n",
       "    </tr>\n",
       "  </tbody>\n",
       "</table>\n",
       "</div>"
      ],
      "text/plain": [
       "                                                                          From  \\\n",
       "Message-ID                                                                       \n",
       "<8345058.1075840404046.JavaMail.evans@thyme>   ('advdfeedback@investools.com')   \n",
       "<1512159.1075863666797.JavaMail.evans@thyme>     ('richard.sanders@enron.com')   \n",
       "<26118676.1075862176383.JavaMail.evans@thyme>            ('m..love@enron.com')   \n",
       "<10369289.1075860831062.JavaMail.evans@thyme>     ('leslie.milosevich@kp.org')   \n",
       "<26728895.1075860815046.JavaMail.evans@thyme>     ('rtwait@graphicaljazz.com')   \n",
       "\n",
       "                                                                            To  \\\n",
       "Message-ID                                                                       \n",
       "<8345058.1075840404046.JavaMail.evans@thyme>   ('advdfeedback@investools.com')   \n",
       "<1512159.1075863666797.JavaMail.evans@thyme>     ('richard.sanders@enron.com')   \n",
       "<26118676.1075862176383.JavaMail.evans@thyme>            ('m..love@enron.com')   \n",
       "<10369289.1075860831062.JavaMail.evans@thyme>     ('leslie.milosevich@kp.org')   \n",
       "<26728895.1075860815046.JavaMail.evans@thyme>     ('rtwait@graphicaljazz.com')   \n",
       "\n",
       "                                                              Date  \\\n",
       "Message-ID                                                           \n",
       "<8345058.1075840404046.JavaMail.evans@thyme>   2002-01-29 23:20:55   \n",
       "<1512159.1075863666797.JavaMail.evans@thyme>   2000-09-20 19:07:00   \n",
       "<26118676.1075862176383.JavaMail.evans@thyme>  2001-10-30 16:15:17   \n",
       "<10369289.1075860831062.JavaMail.evans@thyme>  2002-01-30 17:54:18   \n",
       "<26728895.1075860815046.JavaMail.evans@thyme>  2002-01-30 19:36:01   \n",
       "\n",
       "                                                                                         content  \\\n",
       "Message-ID                                                                                         \n",
       "<8345058.1075840404046.JavaMail.evans@thyme>   INVESTools Advisory\\nA Free Digest of Trusted ...   \n",
       "<1512159.1075863666797.JavaMail.evans@thyme>   ----- Forwarded by Richard B Sanders/HOU/ECT o...   \n",
       "<26118676.1075862176383.JavaMail.evans@thyme>  hey you are not wearing your target purple shi...   \n",
       "<10369289.1075860831062.JavaMail.evans@thyme>  Leslie Milosevich\\n1042 Santa Clara Avenue\\nAl...   \n",
       "<26728895.1075860815046.JavaMail.evans@thyme>  Rini Twait\\n1010 E 5th Ave\\nLongmont, CO 80501...   \n",
       "\n",
       "                                                                                   clean_content  \n",
       "Message-ID                                                                                        \n",
       "<8345058.1075840404046.JavaMail.evans@thyme>   investools advisory free digest trusted invest...  \n",
       "<1512159.1075863666797.JavaMail.evans@thyme>   forwarded richard b sanders hou ect pm justin ...  \n",
       "<26118676.1075862176383.JavaMail.evans@thyme>  hey wearing target purple shirt today mine wan...  \n",
       "<10369289.1075860831062.JavaMail.evans@thyme>  leslie milosevich santa clara avenue alameda c...  \n",
       "<26728895.1075860815046.JavaMail.evans@thyme>  rini twait e th ave longmont co rtwait graphic...  "
      ]
     },
     "execution_count": 4,
     "metadata": {},
     "output_type": "execute_result"
    }
   ],
   "source": [
    "emails.head()"
   ]
  },
  {
   "cell_type": "code",
   "execution_count": 5,
   "metadata": {},
   "outputs": [
    {
     "name": "stdout",
     "output_type": "stream",
     "text": [
      "<class 'pandas.core.frame.DataFrame'>\n",
      "Index: 2090 entries, <8345058.1075840404046.JavaMail.evans@thyme> to <33102456.1075842033860.JavaMail.evans@thyme>\n",
      "Data columns (total 5 columns):\n",
      "From             2090 non-null object\n",
      "To               2090 non-null object\n",
      "Date             2090 non-null object\n",
      "content          2090 non-null object\n",
      "clean_content    2086 non-null object\n",
      "dtypes: object(5)\n",
      "memory usage: 98.0+ KB\n"
     ]
    }
   ],
   "source": [
    "emails.info()"
   ]
  },
  {
   "cell_type": "code",
   "execution_count": 6,
   "metadata": {},
   "outputs": [],
   "source": [
    "df = emails"
   ]
  },
  {
   "cell_type": "code",
   "execution_count": 8,
   "metadata": {},
   "outputs": [
    {
     "data": {
      "text/html": [
       "<div>\n",
       "<style scoped>\n",
       "    .dataframe tbody tr th:only-of-type {\n",
       "        vertical-align: middle;\n",
       "    }\n",
       "\n",
       "    .dataframe tbody tr th {\n",
       "        vertical-align: top;\n",
       "    }\n",
       "\n",
       "    .dataframe thead th {\n",
       "        text-align: right;\n",
       "    }\n",
       "</style>\n",
       "<table border=\"1\" class=\"dataframe\">\n",
       "  <thead>\n",
       "    <tr style=\"text-align: right;\">\n",
       "      <th></th>\n",
       "      <th>From</th>\n",
       "      <th>To</th>\n",
       "      <th>Date</th>\n",
       "      <th>content</th>\n",
       "      <th>clean_content</th>\n",
       "    </tr>\n",
       "    <tr>\n",
       "      <th>Message-ID</th>\n",
       "      <th></th>\n",
       "      <th></th>\n",
       "      <th></th>\n",
       "      <th></th>\n",
       "      <th></th>\n",
       "    </tr>\n",
       "  </thead>\n",
       "  <tbody>\n",
       "    <tr>\n",
       "      <th>&lt;6336501.1075841154311.JavaMail.evans@thyme&gt;</th>\n",
       "      <td>('sarah.palmer@enron.com')</td>\n",
       "      <td>('sarah.palmer@enron.com')</td>\n",
       "      <td>2002-02-01 14:53:35</td>\n",
       "      <td>\\nJoint Venture: A 1997 Enron Meeting Belies O...</td>\n",
       "      <td>joint venture enron meeting belies officers cl...</td>\n",
       "    </tr>\n",
       "  </tbody>\n",
       "</table>\n",
       "</div>"
      ],
      "text/plain": [
       "                                                                    From  \\\n",
       "Message-ID                                                                 \n",
       "<6336501.1075841154311.JavaMail.evans@thyme>  ('sarah.palmer@enron.com')   \n",
       "\n",
       "                                                                      To  \\\n",
       "Message-ID                                                                 \n",
       "<6336501.1075841154311.JavaMail.evans@thyme>  ('sarah.palmer@enron.com')   \n",
       "\n",
       "                                                             Date  \\\n",
       "Message-ID                                                          \n",
       "<6336501.1075841154311.JavaMail.evans@thyme>  2002-02-01 14:53:35   \n",
       "\n",
       "                                                                                        content  \\\n",
       "Message-ID                                                                                        \n",
       "<6336501.1075841154311.JavaMail.evans@thyme>  \\nJoint Venture: A 1997 Enron Meeting Belies O...   \n",
       "\n",
       "                                                                                  clean_content  \n",
       "Message-ID                                                                                       \n",
       "<6336501.1075841154311.JavaMail.evans@thyme>  joint venture enron meeting belies officers cl...  "
      ]
     },
     "execution_count": 8,
     "metadata": {},
     "output_type": "execute_result"
    }
   ],
   "source": [
    "# Find all cleaned emails that contain 'sell enron stock'\n",
    "mask = df['clean_content'].str.contains('sell enron stock', na=False)\n",
    "\n",
    "# Select the data from df using the mask\n",
    "df.loc[mask]"
   ]
  },
  {
   "cell_type": "markdown",
   "metadata": {},
   "source": [
    "By joining the search terms with the `|`, we can search on a multitude of terms."
   ]
  },
  {
   "cell_type": "code",
   "execution_count": 11,
   "metadata": {},
   "outputs": [
    {
     "data": {
      "text/html": [
       "<div>\n",
       "<style scoped>\n",
       "    .dataframe tbody tr th:only-of-type {\n",
       "        vertical-align: middle;\n",
       "    }\n",
       "\n",
       "    .dataframe tbody tr th {\n",
       "        vertical-align: top;\n",
       "    }\n",
       "\n",
       "    .dataframe thead th {\n",
       "        text-align: right;\n",
       "    }\n",
       "</style>\n",
       "<table border=\"1\" class=\"dataframe\">\n",
       "  <thead>\n",
       "    <tr style=\"text-align: right;\">\n",
       "      <th></th>\n",
       "      <th>From</th>\n",
       "      <th>To</th>\n",
       "      <th>Date</th>\n",
       "      <th>content</th>\n",
       "      <th>clean_content</th>\n",
       "    </tr>\n",
       "    <tr>\n",
       "      <th>Message-ID</th>\n",
       "      <th></th>\n",
       "      <th></th>\n",
       "      <th></th>\n",
       "      <th></th>\n",
       "      <th></th>\n",
       "    </tr>\n",
       "  </thead>\n",
       "  <tbody>\n",
       "    <tr>\n",
       "      <th>&lt;8345058.1075840404046.JavaMail.evans@thyme&gt;</th>\n",
       "      <td>('advdfeedback@investools.com')</td>\n",
       "      <td>('advdfeedback@investools.com')</td>\n",
       "      <td>2002-01-29 23:20:55</td>\n",
       "      <td>INVESTools Advisory\\nA Free Digest of Trusted ...</td>\n",
       "      <td>investools advisory free digest trusted invest...</td>\n",
       "    </tr>\n",
       "    <tr>\n",
       "      <th>&lt;1512159.1075863666797.JavaMail.evans@thyme&gt;</th>\n",
       "      <td>('richard.sanders@enron.com')</td>\n",
       "      <td>('richard.sanders@enron.com')</td>\n",
       "      <td>2000-09-20 19:07:00</td>\n",
       "      <td>----- Forwarded by Richard B Sanders/HOU/ECT o...</td>\n",
       "      <td>forwarded richard b sanders hou ect pm justin ...</td>\n",
       "    </tr>\n",
       "    <tr>\n",
       "      <th>&lt;26118676.1075862176383.JavaMail.evans@thyme&gt;</th>\n",
       "      <td>('m..love@enron.com')</td>\n",
       "      <td>('m..love@enron.com')</td>\n",
       "      <td>2001-10-30 16:15:17</td>\n",
       "      <td>hey you are not wearing your target purple shi...</td>\n",
       "      <td>hey wearing target purple shirt today mine wan...</td>\n",
       "    </tr>\n",
       "    <tr>\n",
       "      <th>&lt;10369289.1075860831062.JavaMail.evans@thyme&gt;</th>\n",
       "      <td>('leslie.milosevich@kp.org')</td>\n",
       "      <td>('leslie.milosevich@kp.org')</td>\n",
       "      <td>2002-01-30 17:54:18</td>\n",
       "      <td>Leslie Milosevich\\n1042 Santa Clara Avenue\\nAl...</td>\n",
       "      <td>leslie milosevich santa clara avenue alameda c...</td>\n",
       "    </tr>\n",
       "    <tr>\n",
       "      <th>&lt;26728895.1075860815046.JavaMail.evans@thyme&gt;</th>\n",
       "      <td>('rtwait@graphicaljazz.com')</td>\n",
       "      <td>('rtwait@graphicaljazz.com')</td>\n",
       "      <td>2002-01-30 19:36:01</td>\n",
       "      <td>Rini Twait\\n1010 E 5th Ave\\nLongmont, CO 80501...</td>\n",
       "      <td>rini twait e th ave longmont co rtwait graphic...</td>\n",
       "    </tr>\n",
       "  </tbody>\n",
       "</table>\n",
       "</div>"
      ],
      "text/plain": [
       "                                                                          From  \\\n",
       "Message-ID                                                                       \n",
       "<8345058.1075840404046.JavaMail.evans@thyme>   ('advdfeedback@investools.com')   \n",
       "<1512159.1075863666797.JavaMail.evans@thyme>     ('richard.sanders@enron.com')   \n",
       "<26118676.1075862176383.JavaMail.evans@thyme>            ('m..love@enron.com')   \n",
       "<10369289.1075860831062.JavaMail.evans@thyme>     ('leslie.milosevich@kp.org')   \n",
       "<26728895.1075860815046.JavaMail.evans@thyme>     ('rtwait@graphicaljazz.com')   \n",
       "\n",
       "                                                                            To  \\\n",
       "Message-ID                                                                       \n",
       "<8345058.1075840404046.JavaMail.evans@thyme>   ('advdfeedback@investools.com')   \n",
       "<1512159.1075863666797.JavaMail.evans@thyme>     ('richard.sanders@enron.com')   \n",
       "<26118676.1075862176383.JavaMail.evans@thyme>            ('m..love@enron.com')   \n",
       "<10369289.1075860831062.JavaMail.evans@thyme>     ('leslie.milosevich@kp.org')   \n",
       "<26728895.1075860815046.JavaMail.evans@thyme>     ('rtwait@graphicaljazz.com')   \n",
       "\n",
       "                                                              Date  \\\n",
       "Message-ID                                                           \n",
       "<8345058.1075840404046.JavaMail.evans@thyme>   2002-01-29 23:20:55   \n",
       "<1512159.1075863666797.JavaMail.evans@thyme>   2000-09-20 19:07:00   \n",
       "<26118676.1075862176383.JavaMail.evans@thyme>  2001-10-30 16:15:17   \n",
       "<10369289.1075860831062.JavaMail.evans@thyme>  2002-01-30 17:54:18   \n",
       "<26728895.1075860815046.JavaMail.evans@thyme>  2002-01-30 19:36:01   \n",
       "\n",
       "                                                                                         content  \\\n",
       "Message-ID                                                                                         \n",
       "<8345058.1075840404046.JavaMail.evans@thyme>   INVESTools Advisory\\nA Free Digest of Trusted ...   \n",
       "<1512159.1075863666797.JavaMail.evans@thyme>   ----- Forwarded by Richard B Sanders/HOU/ECT o...   \n",
       "<26118676.1075862176383.JavaMail.evans@thyme>  hey you are not wearing your target purple shi...   \n",
       "<10369289.1075860831062.JavaMail.evans@thyme>  Leslie Milosevich\\n1042 Santa Clara Avenue\\nAl...   \n",
       "<26728895.1075860815046.JavaMail.evans@thyme>  Rini Twait\\n1010 E 5th Ave\\nLongmont, CO 80501...   \n",
       "\n",
       "                                                                                   clean_content  \n",
       "Message-ID                                                                                        \n",
       "<8345058.1075840404046.JavaMail.evans@thyme>   investools advisory free digest trusted invest...  \n",
       "<1512159.1075863666797.JavaMail.evans@thyme>   forwarded richard b sanders hou ect pm justin ...  \n",
       "<26118676.1075862176383.JavaMail.evans@thyme>  hey wearing target purple shirt today mine wan...  \n",
       "<10369289.1075860831062.JavaMail.evans@thyme>  leslie milosevich santa clara avenue alameda c...  \n",
       "<26728895.1075860815046.JavaMail.evans@thyme>  rini twait e th ave longmont co rtwait graphic...  "
      ]
     },
     "execution_count": 11,
     "metadata": {},
     "output_type": "execute_result"
    }
   ],
   "source": [
    "# Create a list of terms to search for\n",
    "searchfor = ['enron stock', 'sell stock', 'stock bonus', 'sell enron stock']\n",
    "\n",
    "# Filter cleaned emails on searchfor list and select from df \n",
    "filtered_emails = df.loc[df['clean_content'].str.contains('|'.join(searchfor), na=False)]\n",
    "\n",
    "filtered_emails.head()"
   ]
  },
  {
   "cell_type": "code",
   "execution_count": 12,
   "metadata": {},
   "outputs": [
    {
     "data": {
      "text/plain": [
       "314"
      ]
     },
     "execution_count": 12,
     "metadata": {},
     "output_type": "execute_result"
    }
   ],
   "source": [
    "len(filtered_emails)"
   ]
  },
  {
   "cell_type": "markdown",
   "metadata": {},
   "source": [
    "We can use the _word search_ as an **additional flag** or a **feature** in the model.\n",
    "\n",
    ">The 'flag' can be used either directly in a machine learning model as a feature, or as an additional filter on top of your machine learning model results"
   ]
  },
  {
   "cell_type": "code",
   "execution_count": 13,
   "metadata": {},
   "outputs": [
    {
     "data": {
      "text/plain": [
       "0    1776\n",
       "1     314\n",
       "Name: flag, dtype: int64"
      ]
     },
     "execution_count": 13,
     "metadata": {},
     "output_type": "execute_result"
    }
   ],
   "source": [
    "# Create flag variable where the emails match the searchfor terms\n",
    "df['flag'] = np.where((df['clean_content'].str.contains('|'.join(searchfor)) == True), 1, 0)\n",
    "\n",
    "# Count the values of the flag variable\n",
    "df['flag'].value_counts()"
   ]
  },
  {
   "cell_type": "markdown",
   "metadata": {},
   "source": [
    "### Text Mining\n",
    "\n",
    "Steps:\n",
    "- Tokenization\n",
    "- Removing Stop Words and Punctuations\n",
    "- Lemmatizing\n",
    "- Stemming"
   ]
  },
  {
   "cell_type": "code",
   "execution_count": null,
   "metadata": {},
   "outputs": [],
   "source": [
    "# # 1. Tokenization\n",
    "# from nltk import word_tokenize\n",
    "\n",
    "# text = df.apply(lambda row: word_tokenize(row[\"email_body\"]), axis=1)\n",
    "# text = text.rstrip()\n",
    "# text = re.sub(r'[^a-zA-Z]', ' ', text)\n",
    "\n",
    "# # 2. Remove all stopwords and punctuation\n",
    "# from nltk.corpus import stopwords import string\n",
    "\n",
    "# exclude = set(string.punctuation)\n",
    "# stop = set(stopwords.words('english'))\n",
    "# stop_free = \" \".join([word for word in text\n",
    "#             if((word not in stop) and (not word.isdigit()))])\n",
    "# punc_free = ''.join(word for word in stop_free\n",
    "#             if word not in exclude)"
   ]
  },
  {
   "cell_type": "code",
   "execution_count": null,
   "metadata": {},
   "outputs": [],
   "source": [
    "# # 3. Lemmatize words\n",
    "# from nltk.stem.wordnet import WordNetLemmatizer\n",
    "\n",
    "# lemma = WordNetLemmatizer()\n",
    "# normalized = \" \".join(lemma.lemmatize(word) for word in punc_free.split())\n",
    "\n",
    "# 4. Stem words\n",
    "# from nltk.stem.porter import PorterStemmer\n",
    "\n",
    "# porter = PorterStemmer()\n",
    "# cleaned_text = \" \".join(porter.stem(token) for token in normalized.split())\n",
    "\n",
    "# print(cleaned_text)\n"
   ]
  },
  {
   "cell_type": "code",
   "execution_count": 16,
   "metadata": {},
   "outputs": [
    {
     "data": {
      "text/plain": [
       "4"
      ]
     },
     "execution_count": 16,
     "metadata": {},
     "output_type": "execute_result"
    }
   ],
   "source": [
    "df.clean_content.isna().sum()"
   ]
  },
  {
   "cell_type": "code",
   "execution_count": 17,
   "metadata": {},
   "outputs": [],
   "source": [
    "df.dropna(inplace=True)"
   ]
  },
  {
   "cell_type": "code",
   "execution_count": 19,
   "metadata": {},
   "outputs": [],
   "source": [
    "# Import nltk packages and string \n",
    "from nltk.corpus import stopwords\n",
    "import string\n",
    "\n",
    "# Define stopwords to exclude\n",
    "stop = set(stopwords.words('english'))\n",
    "stop.update((\"to\",\"cc\",\"subject\",\"http\",\"from\",\"sent\", \"ect\", \"u\", \"fwd\", \"www\", \"com\"))\n",
    "\n",
    "# Define punctuations to exclude and lemmatizer\n",
    "exclude = set(string.punctuation)"
   ]
  },
  {
   "cell_type": "code",
   "execution_count": 25,
   "metadata": {},
   "outputs": [
    {
     "name": "stdout",
     "output_type": "stream",
     "text": [
      "[['board', 'kieth', 'comment', 'want', 'make', 'sure', 'relaying', 'message', 'ena', 'organization', 'dotted', 'solid', 'line', 'whatever', 'also', 'going', 'sell', 'resulting', 'structure', 'process', 'division', 'responsibility', 'ena', 'origination', 'team', 'create', 'unnecessary', 'division', 'case', 'past', 'something', 'working', 'hard', 'avoid', 'regard', 'brian', 'keith', 'dodson', 'enron', 'louise', 'kitchen', 'hou', 'brian', 'redmond', 'hou', 'brian', 'stanley', 'eu', 'enron', 'enron', 'dotted', 'versus', 'straight', 'line', 'louise', 'left', 'message', 'brian', 'receiving', 'phone', 'message', 'morning', 'chance', 'talk', 'told', 'one', 'solid', 'dotted', 'line', 'response', 'direct', 'question', 'bruce', 'golden', 'brian', 'group', 'reference', 'development', 'engineer', 'meant', 'announcement', 'told', 'development', 'engineer', 'connected', 'eeos', 'part', 'technical', 'quality', 'control', 'corporate', 'perspective', 'others', 'brian', 'stanley', 'used', 'concept', 'development', 'engineer', 'aligned', 'business', 'unit', 'seconded', 'eeos', 'allows', 'movement', 'best', 'satisfy', 'corporate', 'need', 'required', 'felt', 'approach', 'fit', 'none', 'profit', 'center', 'aligned', 'wholesale', 'charter', 'state', 'still', 'work', 'detail', 'role', 'support', 'wholesale', 'business', 'unit', 'aside', 'least', 'concern', 'brian', 'group', 'brian', 'focal', 'point', 'communicate', 'day', 'day', 'chatter', 'navigate', 'hurdle', 'left', 'stacked', 'ee', 'baggage', 'brian', 'stanley', 'planning', 'spend', 'couple', 'week', 'sorting', 'type', 'issue', 'keith', 'dodson', 'louise', 'kitchen', 'keith', 'dodson', 'na', 'enron', 'enron', 'brian', 'stanley', 'eu', 'enron', 'enron', 'brian', 'redmond', 'hou', 'dotted', 'versus', 'straight', 'line', 'another', 'agreement', 'three', 'message', 'technical', 'staff', 'enron', 'america', 'continue', 'report', 'straight', 'line', 'brian', 'work', 'nature', 'dotted', 'line', 'new', 'group', 'future', 'let', 'keep', 'business', 'usual', 'change', 'message', 'avoid', 'miscommunications', 'sit', 'together', 'thanks', 'louise', 'embedded', 'stdolelink'], ['wall', 'street', 'people', 'talking', 'enron', 'enron', 'talking', 'people', 'people', 'driving', 'force', 'behind', 'every', 'success', 'company', 'experienced', 'including', 'high', 'performing', 'stock', 'price', 'surpassed', 'mark', 'day', 'ago', 'made', 'happen', 'show', 'appreciation', 'hard', 'work', 'commitment', 'enron', 'continued', 'success', 'eligible', 'regular', 'full', 'time', 'regular', 'part', 'time', 'employe', 'e', 'payroll', 'wholly', 'owned', 'enron', 'company', 'dec', 'wi', 'receive', 'enron', 'stock', 'option', 'special', 'stock', 'option', 'award', 'certificate', 'nd', 'copy', 'stock', 'plan', 'next', 'week', 'stock', 'option', 'grant', 'grant', 'effective', 'jan', 'therefore', 'option', 'grant', 'price', 'option', 'seven', 'year', 'term', 'mean', 'must', 'exercise', 'option', 'seven', 'year', 'passed', 'option', 'vest', 'percent', 'feb', 'percent', 'subsequent', 'january', 'th', 'thereafter', 'fully', 'vested', 'long', 'n', 'employee', 'enron', 'mean', 'may', 'exercise', 'percent', 'option', 'early', 'feb', 'grant', 'made', 'accordance', 'term', 'provision', 'enr', 'corp', 'stock', 'plan', 'award', 'document', 'receive', 'coming', 'week', 'due', 'varying', 'international', 'restriction', 'legality', 'enron', 'employee', 'n', 'certain', 'international', 'location', 'receive', 'form', 'recognition', 'local', 'management', 'human', 'resource', 'representative', 'communicate', 'detail', 'visit', 'home', 'enron', 'additional', 'information', 'access', 'li', 'st', 'frequently', 'asked', 'question', 'regarding', 'stock', 'option', 'view', 'special', 'message', 'ken', 'lay', 'access', 'special', 'message', 'must', 'ip', 'tv', 'sound', 'card', 'able', 'view', 'ken', 'message', 'transcript', 'available', 'encounter', 'technical', 'difficulty', 'plea', 'se', 'contact', 'pc', 'help', 'desk', 'thank', 'make', 'enron', 'successful', 'global', 'energy', 'broadband', 'service', 'company', 'great', 'place', 'work'], ['transmission', 'expansion', 'system', 'transition', 'conference', 'feb', 'miami', 'florida', 'overview', 'conference', 'examine', 'business', 'regulatory', 'challenge', 'electric', 'system', 'transition', 'effectively', 'expanding', 'transmission', 'capacity', 'meet', 'new', 'demand', 'larger', 'competitive', 'regional', 'market', 'emerging', 'ferc', 'rto', 'initiative', 'conference', 'review', 'parameter', 'challenge', 'possible', 'solution', 'examine', 'technology', 'option', 'new', 'business', 'model', 'transmission', 'expansion', 'analyze', 'emerging', 'proposal', 'effective', 'transmission', 'planning', 'pricing', 'including', 'market', 'based', 'pricing', 'alternative', 'ferc', 'traditional', 'pricing', 'method', 'conference', 'also', 'discus', 'take', 'legislative', 'action', 'regulatory', 'initiative', 'achieve', 'efficient', 'regime', 'ensuring', 'nation', 'reliable', 'grid', 'regional', 'trading', 'system', 'brochure', 'conference', 'associated', 'workshop', 'obtained', 'clicking', 'link', 'euci', 'pdf', 'trans', 'expn', 'pdf', 'electricity', 'market', 'design', 'conference', 'march', 'atlanta', 'georgia', 'overview', 'conference', 'focus', 'design', 'competitive', 'electricity', 'market', 'maximize', 'benefit', 'consumer', 'time', 'maintaining', 'financial', 'viability', 'company', 'participating', 'market', 'brochure', 'electricity', 'market', 'design', 'conference', 'march', 'wyndham', 'hotel', 'downtown', 'atlanta', 'ga', 'obtained', 'clicking', 'link', 'euci', 'pdf', 'mrktdesgn', 'pdf', 'power', 'generation', 'asset', 'portfolio', 'management', 'conference', 'march', 'atlanta', 'georgia', 'overview', 'conference', 'highlight', 'commonalty', 'common', 'application', 'asset', 'management', 'process', 'used', 'throughout', 'enterprise', 'conference', 'emphasize', 'need', 'link', 'physical', 'power', 'generation', 'asset', 'management', 'process', 'activity', 'process', 'trading', 'marketing', 'process', 'process', 'asset', 'management', 'addressed', 'three', 'distinct', 'perspective', 'first', 'long', 'term', 'perspective', 'portfolio', 'developer', 'second', 'medium', 'term', 'perspective', 'maintenance', 'system', 'planner', 'third', 'conference', 'link', 'short', 'term', 'issue', 'trading', 'marketing', 'department', 'purpose', 'show', 'process', 'integrated', 'individual', 'asset', 'plant', 'order', 'provide', 'consistent', 'profitable', 'strategy', 'generation', 'asset', 'owner', 'brochure', 'power', 'generation', 'asset', 'portfolio', 'management', 'conference', 'march', 'wyndham', 'hotel', 'downtown', 'atlanta', 'ga', 'obtained', 'clicking', 'link', 'euci', 'pdf', 'powergeneration', 'pdf', 'ancillary', 'service', 'conference', 'april', 'denver', 'colorado', 'overview', 'region', 'north', 'america', 'open', 'wholesale', 'market', 'competition', 'importance', 'ancillary', 'service', 'increasingly', 'recognized', 'service', 'generally', 'provided', 'generator', 'produce', 'competitive', 'energy', 'product', 'vital', 'commerce', 'reliability', 'conference', 'cover', 'key', 'engineering', 'economic', 'market', 'policy', 'issue', 'associated', 'function', 'conference', 'also', 'present', 'update', 'status', 'various', 'market', 'including', 'market', 'design', 'operation', 'problem', 'solution', 'success', 'price', 'cost', 'north', 'america', 'market', 'include', 'new', 'england', 'new', 'york', 'pjm', 'ercot', 'alberta', 'developing', 'market', 'ontario', 'also', 'covered', 'market', 'design', 'encompass', 'issue', 'day', 'ahead', 'scheduling', 'real', 'time', 'operation', 'integration', 'market', 'energy', 'congestion', 'measuring', 'real', 'time', 'delivery', 'service', 'operating', 'cost', 'produce', 'service', 'potential', 'customer', 'load', 'supply', 'service', 'brochure', 'ancillary', 'service', 'conference', 'april', 'wyndham', 'hotel', 'tech', 'center', 'denver', 'co', 'obtained', 'clicking', 'link', 'euci', 'pdf', 'anc', 'svcs', 'pdf', 'please', 'print', 'brochure', 'fax', 'registration', 'form', 'back', 'u', 'would', 'like', 'attend', 'event', 'also', 'register', 'calling', 'u', 'online', 'updated', 'website', 'include', 'new', 'conference', 'proceeding', 'recently', 'held', 'electric', 'power', 'market', 'performance', 'performance', 'based', 'ratemaking', 'ancillary', 'service', 'performance', 'management', 'electric', 'distribution', 'company', 'power', 'generation', 'asset', 'management', 'power', 'asset', 'management', 'conference', 'please', 'visit', 'euci', 'review', 'conference', 'proceeding', 'section', 'proceeding', 'kindly', 'forward', 'announcement', 'colleague', 'might', 'benefit', 'attending', 'event', 'best', 'regard', 'l', 'mrig', 'electric', 'utility', 'consultant', 'inc', 'euci', 'preserve', 'drive', 'greenwood', 'village', 'co', 'tel', 'fax', 'lmrig', 'euci']]\n"
     ]
    }
   ],
   "source": [
    "# Import the lemmatizer from nltk\n",
    "from nltk.stem.wordnet import WordNetLemmatizer\n",
    "lemma = WordNetLemmatizer()\n",
    "\n",
    "# Define word cleaning function\n",
    "def clean(text, stop):\n",
    "    text = text.rstrip()\n",
    "    stop_free = \" \".join([i for i in text.lower().split() if((i not in stop) and (not i.isdigit()))])\n",
    "    punc_free = ''.join(i for i in stop_free if i not in exclude)\n",
    "    normalized = \" \".join(lemma.lemmatize(i) for i in punc_free.split())      \n",
    "    return normalized\n",
    "\n",
    "# Clean the emails in df and print results\n",
    "text_clean=[]\n",
    "for text in df['clean_content'].sample(3):\n",
    "    text_clean.append(clean(text, stop).split())    \n",
    "print(text_clean)"
   ]
  },
  {
   "cell_type": "markdown",
   "metadata": {},
   "source": [
    "### Topic Modeling"
   ]
  },
  {
   "cell_type": "markdown",
   "metadata": {},
   "source": [
    "#### Bag-of-Words"
   ]
  },
  {
   "cell_type": "code",
   "execution_count": 26,
   "metadata": {},
   "outputs": [
    {
     "name": "stdout",
     "output_type": "stream",
     "text": [
      "Dictionary(476 unique tokens: ['agreement', 'aligned', 'allows', 'also', 'america']...)\n",
      "[[(0, 1), (1, 2), (2, 1), (3, 1), (4, 1), (5, 1), (6, 1), (7, 1), (8, 1), (9, 2), (10, 1), (11, 1), (12, 1), (13, 12), (14, 1), (15, 3), (16, 1), (17, 1), (18, 1), (19, 1), (20, 1), (21, 1), (22, 1), (23, 1), (24, 1), (25, 1), (26, 1), (27, 1), (28, 1), (29, 2), (30, 1), (31, 1), (32, 2), (33, 1), (34, 3), (35, 1), (36, 2), (37, 3), (38, 5), (39, 1), (40, 2), (41, 1), (42, 2), (43, 3), (44, 8), (45, 2), (46, 1), (47, 1), (48, 1), (49, 1), (50, 1), (51, 1), (52, 3), (53, 1), (54, 3), (55, 1), (56, 1), (57, 1), (58, 3), (59, 1), (60, 2), (61, 1), (62, 2), (63, 1), (64, 6), (65, 4), (66, 1), (67, 1), (68, 5), (69, 1), (70, 1), (71, 1), (72, 1), (73, 1), (74, 1), (75, 1), (76, 1), (77, 1), (78, 1), (79, 1), (80, 1), (81, 1), (82, 1), (83, 1), (84, 1), (85, 1), (86, 1), (87, 1), (88, 1), (89, 1), (90, 1), (91, 1), (92, 1), (93, 2), (94, 1), (95, 1), (96, 1), (97, 1), (98, 1), (99, 1), (100, 1), (101, 1), (102, 1), (103, 1), (104, 1), (105, 1), (106, 1), (107, 2), (108, 1), (109, 1), (110, 1), (111, 1), (112, 1), (113, 4), (114, 1), (115, 1), (116, 1), (117, 3), (118, 1), (119, 1), (120, 1), (121, 1), (122, 1), (123, 2), (124, 1), (125, 1), (126, 1), (127, 2), (128, 1), (129, 2), (130, 1), (131, 1), (132, 1), (133, 2), (134, 1), (135, 1), (136, 1), (137, 2), (138, 2), (139, 1)], [(23, 1), (32, 1), (33, 1), (44, 9), (53, 1), (66, 1), (68, 3), (82, 1), (91, 1), (123, 1), (135, 2), (138, 2), (140, 1), (141, 2), (142, 1), (143, 1), (144, 1), (145, 1), (146, 1), (147, 1), (148, 2), (149, 1), (150, 1), (151, 1), (152, 1), (153, 1), (154, 1), (155, 1), (156, 3), (157, 1), (158, 1), (159, 1), (160, 1), (161, 1), (162, 1), (163, 1), (164, 1), (165, 1), (166, 1), (167, 1), (168, 1), (169, 1), (170, 1), (171, 1), (172, 2), (173, 1), (174, 1), (175, 1), (176, 1), (177, 2), (178, 1), (179, 2), (180, 1), (181, 1), (182, 1), (183, 1), (184, 1), (185, 1), (186, 4), (187, 1), (188, 1), (189, 1), (190, 1), (191, 1), (192, 1), (193, 1), (194, 1), (195, 2), (196, 1), (197, 1), (198, 1), (199, 2), (200, 1), (201, 1), (202, 1), (203, 1), (204, 1), (205, 1), (206, 2), (207, 1), (208, 1), (209, 1), (210, 2), (211, 2), (212, 2), (213, 1), (214, 1), (215, 9), (216, 1), (217, 1), (218, 1), (219, 1), (220, 3), (221, 3), (222, 1), (223, 1), (224, 2), (225, 1), (226, 2), (227, 1), (228, 3), (229, 1), (230, 1), (231, 2), (232, 1), (233, 1), (234, 1), (235, 1), (236, 1), (237, 2), (238, 1), (239, 1), (240, 3), (241, 1), (242, 7), (243, 1), (244, 1), (245, 2), (246, 1), (247, 1), (248, 2), (249, 2), (250, 1), (251, 1), (252, 1), (253, 1), (254, 2), (255, 1), (256, 1), (257, 1), (258, 1), (259, 1), (260, 2), (261, 1), (262, 1), (263, 1), (264, 1), (265, 2)], [(3, 4), (4, 2), (5, 1), (11, 1), (15, 2), (17, 1), (32, 1), (56, 3), (75, 1), (76, 5), (84, 3), (86, 1), (88, 6), (95, 1), (125, 1), (131, 1), (137, 1), (156, 2), (169, 1), (174, 2), (179, 1), (181, 1), (193, 2), (205, 1), (207, 8), (215, 1), (226, 1), (236, 8), (238, 1), (245, 1), (249, 3), (254, 3), (261, 1), (266, 1), (267, 1), (268, 1), (269, 1), (270, 1), (271, 1), (272, 1), (273, 1), (274, 1), (275, 4), (276, 1), (277, 2), (278, 9), (279, 2), (280, 4), (281, 1), (282, 1), (283, 1), (284, 2), (285, 2), (286, 5), (287, 1), (288, 1), (289, 2), (290, 4), (291, 2), (292, 1), (293, 1), (294, 1), (295, 1), (296, 1), (297, 1), (298, 3), (299, 20), (300, 1), (301, 1), (302, 1), (303, 1), (304, 2), (305, 1), (306, 1), (307, 1), (308, 1), (309, 1), (310, 2), (311, 1), (312, 5), (313, 1), (314, 1), (315, 1), (316, 1), (317, 1), (318, 2), (319, 1), (320, 1), (321, 1), (322, 1), (323, 4), (324, 3), (325, 2), (326, 1), (327, 1), (328, 1), (329, 1), (330, 1), (331, 1), (332, 1), (333, 7), (334, 2), (335, 2), (336, 1), (337, 2), (338, 1), (339, 2), (340, 2), (341, 1), (342, 1), (343, 1), (344, 1), (345, 1), (346, 1), (347, 2), (348, 1), (349, 5), (350, 1), (351, 2), (352, 1), (353, 1), (354, 1), (355, 1), (356, 3), (357, 1), (358, 1), (359, 2), (360, 1), (361, 1), (362, 2), (363, 1), (364, 1), (365, 1), (366, 1), (367, 1), (368, 1), (369, 1), (370, 1), (371, 6), (372, 1), (373, 1), (374, 1), (375, 1), (376, 4), (377, 15), (378, 2), (379, 1), (380, 1), (381, 1), (382, 1), (383, 1), (384, 1), (385, 1), (386, 1), (387, 1), (388, 1), (389, 1), (390, 2), (391, 4), (392, 1), (393, 1), (394, 1), (395, 1), (396, 2), (397, 1), (398, 4), (399, 1), (400, 1), (401, 1), (402, 8), (403, 3), (404, 1), (405, 1), (406, 1), (407, 1), (408, 2), (409, 1), (410, 3), (411, 1), (412, 1), (413, 6), (414, 1), (415, 1), (416, 1), (417, 3), (418, 1), (419, 1), (420, 3), (421, 2), (422, 1), (423, 1), (424, 1), (425, 1), (426, 1), (427, 1), (428, 1), (429, 2), (430, 1), (431, 1), (432, 1), (433, 1), (434, 2), (435, 1), (436, 1), (437, 2), (438, 1), (439, 1), (440, 2), (441, 1), (442, 1), (443, 1), (444, 1), (445, 1), (446, 2), (447, 1), (448, 1), (449, 1), (450, 1), (451, 4), (452, 1), (453, 1), (454, 1), (455, 1), (456, 1), (457, 1), (458, 3), (459, 1), (460, 1), (461, 2), (462, 4), (463, 2), (464, 1), (465, 1), (466, 1), (467, 1), (468, 1), (469, 1), (470, 1), (471, 1), (472, 1), (473, 1), (474, 3), (475, 1)]]\n"
     ]
    }
   ],
   "source": [
    "# Import the packages\n",
    "import gensim\n",
    "from gensim import corpora\n",
    "\n",
    "# Define the dictionary\n",
    "dictionary = corpora.Dictionary(text_clean)\n",
    "\n",
    "# # Filter out (non)frequent words\n",
    "# dictionary.filter_extremes(no_below=5, keep_n=50000)\n",
    "\n",
    "# Define the corpus \n",
    "corpus = [dictionary.doc2bow(text) for text in text_clean]\n",
    "\n",
    "# Print corpus and dictionary\n",
    "print(dictionary)\n",
    "print(corpus)"
   ]
  },
  {
   "cell_type": "markdown",
   "metadata": {},
   "source": [
    "#### LDA Model\n",
    "\n",
    "Using the _dictionary_ and _corpus_ we can build a Latent Dirichlet Allocation (LDA) model. With LDA we obtain \"topics per text item\" and \"words per topic\" models."
   ]
  },
  {
   "cell_type": "code",
   "execution_count": 27,
   "metadata": {},
   "outputs": [
    {
     "name": "stdout",
     "output_type": "stream",
     "text": [
      "(0, '0.006*\"conference\" + 0.004*\"market\" + 0.004*\"option\" + 0.004*\"service\" + 0.004*\"asset\"')\n",
      "(1, '0.038*\"conference\" + 0.028*\"market\" + 0.017*\"asset\" + 0.015*\"management\" + 0.015*\"pdf\"')\n",
      "(2, '0.034*\"enron\" + 0.024*\"brian\" + 0.018*\"option\" + 0.016*\"message\" + 0.014*\"stock\"')\n",
      "(3, '0.004*\"market\" + 0.004*\"conference\" + 0.004*\"enron\" + 0.004*\"brian\" + 0.003*\"management\"')\n",
      "(4, '0.003*\"conference\" + 0.003*\"market\" + 0.003*\"enron\" + 0.002*\"asset\" + 0.002*\"pdf\"')\n"
     ]
    }
   ],
   "source": [
    "# Define the LDA model\n",
    "ldamodel = gensim.models.ldamodel.LdaModel(corpus, num_topics=5, id2word=dictionary, passes=5)\n",
    "\n",
    "# Save the topics and top 5 words\n",
    "topics = ldamodel.print_topics(num_words=5)\n",
    "\n",
    "# Print the results\n",
    "for topic in topics:\n",
    "    print(topic)"
   ]
  },
  {
   "cell_type": "markdown",
   "metadata": {},
   "source": [
    "#### Flagging Fraudw using Topic"
   ]
  },
  {
   "cell_type": "code",
   "execution_count": 29,
   "metadata": {},
   "outputs": [],
   "source": [
    "def get_topic_details(ldamodel, corpus):\n",
    "    topic_details_df = pd.DataFrame()\n",
    "    for i, row in enumerate(ldamodel[corpus]):\n",
    "        row = sorted(row, key=lambda x: (x[1]), reverse=True)\n",
    "        for j, (topic_num, prop_topic) in enumerate(row):\n",
    "            if j == 0:  # => dominant topic\n",
    "                wp = ldamodel.show_topic(topic_num)\n",
    "                topic_details_df = topic_details_df.append(pd.Series([topic_num, prop_topic]), ignore_index=True)\n",
    "    topic_details_df.columns = ['Dominant_Topic', '% Score']\n",
    "    return topic_details_df"
   ]
  },
  {
   "cell_type": "code",
   "execution_count": 30,
   "metadata": {},
   "outputs": [
    {
     "name": "stdout",
     "output_type": "stream",
     "text": [
      "   Dominant_Topic   % Score\n",
      "0             2.0  0.996220\n",
      "1             2.0  0.995972\n",
      "2             1.0  0.998158\n"
     ]
    }
   ],
   "source": [
    "# Run get_topic_details function and check the results\n",
    "print(get_topic_details(ldamodel, corpus))"
   ]
  },
  {
   "cell_type": "code",
   "execution_count": 31,
   "metadata": {},
   "outputs": [
    {
     "data": {
      "text/html": [
       "<div>\n",
       "<style scoped>\n",
       "    .dataframe tbody tr th:only-of-type {\n",
       "        vertical-align: middle;\n",
       "    }\n",
       "\n",
       "    .dataframe tbody tr th {\n",
       "        vertical-align: top;\n",
       "    }\n",
       "\n",
       "    .dataframe thead th {\n",
       "        text-align: right;\n",
       "    }\n",
       "</style>\n",
       "<table border=\"1\" class=\"dataframe\">\n",
       "  <thead>\n",
       "    <tr style=\"text-align: right;\">\n",
       "      <th></th>\n",
       "      <th>Dominant_Topic</th>\n",
       "      <th>% Score</th>\n",
       "      <th>Original text</th>\n",
       "    </tr>\n",
       "  </thead>\n",
       "  <tbody>\n",
       "    <tr>\n",
       "      <th>0</th>\n",
       "      <td>2.0</td>\n",
       "      <td>0.996220</td>\n",
       "      <td>[board, kieth, comment, want, make, sure, rela...</td>\n",
       "    </tr>\n",
       "    <tr>\n",
       "      <th>1</th>\n",
       "      <td>2.0</td>\n",
       "      <td>0.995972</td>\n",
       "      <td>[wall, street, people, talking, enron, enron, ...</td>\n",
       "    </tr>\n",
       "    <tr>\n",
       "      <th>2</th>\n",
       "      <td>1.0</td>\n",
       "      <td>0.998158</td>\n",
       "      <td>[transmission, expansion, system, transition, ...</td>\n",
       "    </tr>\n",
       "  </tbody>\n",
       "</table>\n",
       "</div>"
      ],
      "text/plain": [
       "   Dominant_Topic   % Score                                      Original text\n",
       "0             2.0  0.996220  [board, kieth, comment, want, make, sure, rela...\n",
       "1             2.0  0.995972  [wall, street, people, talking, enron, enron, ...\n",
       "2             1.0  0.998158  [transmission, expansion, system, transition, ..."
      ]
     },
     "execution_count": 31,
     "metadata": {},
     "output_type": "execute_result"
    }
   ],
   "source": [
    "contents = pd.DataFrame({'Original text':text_clean})\n",
    "topic_details = pd.concat([get_topic_details(ldamodel,\n",
    "                           corpus), contents], axis=1)\n",
    "topic_details.head()"
   ]
  },
  {
   "cell_type": "markdown",
   "metadata": {},
   "source": [
    "We can use `pyLDAvis` to visualize the topics. (Works only with Jupyter)"
   ]
  },
  {
   "cell_type": "code",
   "execution_count": 35,
   "metadata": {},
   "outputs": [
    {
     "name": "stderr",
     "output_type": "stream",
     "text": [
      "/anaconda3/lib/python3.7/site-packages/pyLDAvis/_prepare.py:257: FutureWarning: Sorting because non-concatenation axis is not aligned. A future version\n",
      "of pandas will change to not sort by default.\n",
      "\n",
      "To accept the future behavior, pass 'sort=False'.\n",
      "\n",
      "To retain the current behavior and silence the warning, pass 'sort=True'.\n",
      "\n",
      "  return pd.concat([default_term_info] + list(topic_dfs))\n"
     ]
    },
    {
     "data": {
      "text/html": [
       "\n",
       "<link rel=\"stylesheet\" type=\"text/css\" href=\"https://cdn.rawgit.com/bmabey/pyLDAvis/files/ldavis.v1.0.0.css\">\n",
       "\n",
       "\n",
       "<div id=\"ldavis_el22201126667830802330783164\"></div>\n",
       "<script type=\"text/javascript\">\n",
       "\n",
       "var ldavis_el22201126667830802330783164_data = {\"mdsDat\": {\"x\": [-0.0022686955283671034, -0.16885007481932934, 0.16358216768009665, 0.0035848729191062644, 0.0039517297484936015], \"y\": [-0.0008256957792126058, -5.1288570144755024e-05, -9.288120710917406e-05, -0.0022562790969669843, 0.003226144653433233], \"topics\": [1, 2, 3, 4, 5], \"cluster\": [1, 1, 1, 1, 1], \"Freq\": [0.07096162438392639, 51.43541717529297, 48.351715087890625, 0.0709589347243309, 0.07093976438045502]}, \"tinfo\": {\"Category\": [\"Default\", \"Default\", \"Default\", \"Default\", \"Default\", \"Default\", \"Default\", \"Default\", \"Default\", \"Default\", \"Default\", \"Default\", \"Default\", \"Default\", \"Default\", \"Default\", \"Default\", \"Default\", \"Default\", \"Default\", \"Default\", \"Default\", \"Default\", \"Default\", \"Default\", \"Default\", \"Default\", \"Default\", \"Default\", \"Default\", \"Topic1\", \"Topic1\", \"Topic1\", \"Topic1\", \"Topic1\", \"Topic1\", \"Topic1\", \"Topic1\", \"Topic1\", \"Topic1\", \"Topic1\", \"Topic1\", \"Topic1\", \"Topic1\", \"Topic1\", \"Topic1\", \"Topic1\", \"Topic1\", \"Topic1\", \"Topic1\", \"Topic1\", \"Topic1\", \"Topic1\", \"Topic1\", \"Topic1\", \"Topic1\", \"Topic1\", \"Topic1\", \"Topic1\", \"Topic1\", \"Topic1\", \"Topic1\", \"Topic1\", \"Topic1\", \"Topic1\", \"Topic1\", \"Topic1\", \"Topic1\", \"Topic1\", \"Topic1\", \"Topic1\", \"Topic1\", \"Topic1\", \"Topic1\", \"Topic1\", \"Topic1\", \"Topic1\", \"Topic1\", \"Topic1\", \"Topic1\", \"Topic1\", \"Topic1\", \"Topic1\", \"Topic1\", \"Topic1\", \"Topic1\", \"Topic1\", \"Topic1\", \"Topic1\", \"Topic1\", \"Topic1\", \"Topic1\", \"Topic1\", \"Topic1\", \"Topic1\", \"Topic1\", \"Topic1\", \"Topic1\", \"Topic1\", \"Topic1\", \"Topic1\", \"Topic1\", \"Topic1\", \"Topic2\", \"Topic2\", \"Topic2\", \"Topic2\", \"Topic2\", \"Topic2\", \"Topic2\", \"Topic2\", \"Topic2\", \"Topic2\", \"Topic2\", \"Topic2\", \"Topic2\", \"Topic2\", \"Topic2\", \"Topic2\", \"Topic2\", \"Topic2\", \"Topic2\", \"Topic2\", \"Topic2\", \"Topic2\", \"Topic2\", \"Topic2\", \"Topic2\", \"Topic2\", \"Topic2\", \"Topic2\", \"Topic2\", \"Topic2\", \"Topic2\", \"Topic2\", \"Topic2\", \"Topic2\", \"Topic2\", \"Topic2\", \"Topic2\", \"Topic2\", \"Topic2\", \"Topic3\", \"Topic3\", \"Topic3\", \"Topic3\", \"Topic3\", \"Topic3\", \"Topic3\", \"Topic3\", \"Topic3\", \"Topic3\", \"Topic3\", \"Topic3\", \"Topic3\", \"Topic3\", \"Topic3\", \"Topic3\", \"Topic3\", \"Topic3\", \"Topic3\", \"Topic3\", \"Topic3\", \"Topic3\", \"Topic3\", \"Topic3\", \"Topic3\", \"Topic3\", \"Topic3\", \"Topic3\", \"Topic3\", \"Topic3\", \"Topic3\", \"Topic3\", \"Topic3\", \"Topic3\", \"Topic3\", \"Topic3\", \"Topic3\", \"Topic4\", \"Topic4\", \"Topic4\", \"Topic4\", \"Topic4\", \"Topic4\", \"Topic4\", \"Topic4\", \"Topic4\", \"Topic4\", \"Topic4\", \"Topic4\", \"Topic4\", \"Topic4\", \"Topic4\", \"Topic4\", \"Topic4\", \"Topic4\", \"Topic4\", \"Topic4\", \"Topic4\", \"Topic4\", \"Topic4\", \"Topic4\", \"Topic4\", \"Topic4\", \"Topic4\", \"Topic4\", \"Topic4\", \"Topic4\", \"Topic4\", \"Topic4\", \"Topic4\", \"Topic4\", \"Topic4\", \"Topic4\", \"Topic4\", \"Topic4\", \"Topic4\", \"Topic4\", \"Topic4\", \"Topic4\", \"Topic4\", \"Topic4\", \"Topic4\", \"Topic4\", \"Topic4\", \"Topic4\", \"Topic4\", \"Topic4\", \"Topic4\", \"Topic4\", \"Topic4\", \"Topic4\", \"Topic4\", \"Topic4\", \"Topic4\", \"Topic4\", \"Topic4\", \"Topic4\", \"Topic4\", \"Topic4\", \"Topic4\", \"Topic4\", \"Topic4\", \"Topic4\", \"Topic5\", \"Topic5\", \"Topic5\", \"Topic5\", \"Topic5\", \"Topic5\", \"Topic5\", \"Topic5\", \"Topic5\", \"Topic5\", \"Topic5\", \"Topic5\", \"Topic5\", \"Topic5\", \"Topic5\", \"Topic5\", \"Topic5\", \"Topic5\", \"Topic5\", \"Topic5\", \"Topic5\", \"Topic5\", \"Topic5\", \"Topic5\", \"Topic5\", \"Topic5\", \"Topic5\", \"Topic5\", \"Topic5\", \"Topic5\", \"Topic5\", \"Topic5\", \"Topic5\", \"Topic5\", \"Topic5\", \"Topic5\", \"Topic5\", \"Topic5\", \"Topic5\", \"Topic5\", \"Topic5\", \"Topic5\", \"Topic5\", \"Topic5\", \"Topic5\", \"Topic5\", \"Topic5\", \"Topic5\", \"Topic5\", \"Topic5\", \"Topic5\", \"Topic5\", \"Topic5\", \"Topic5\", \"Topic5\", \"Topic5\", \"Topic5\", \"Topic5\", \"Topic5\", \"Topic5\", \"Topic5\", \"Topic5\", \"Topic5\", \"Topic5\", \"Topic5\", \"Topic5\", \"Topic5\", \"Topic5\", \"Topic5\", \"Topic5\", \"Topic5\", \"Topic5\", \"Topic5\", \"Topic5\", \"Topic5\", \"Topic5\", \"Topic5\", \"Topic5\", \"Topic5\", \"Topic5\", \"Topic5\", \"Topic5\", \"Topic5\", \"Topic5\", \"Topic5\", \"Topic5\", \"Topic5\", \"Topic5\", \"Topic5\", \"Topic5\", \"Topic5\"], \"Freq\": [16.0, 13.0, 12.0, 9.0, 7.0, 8.0, 6.0, 7.0, 7.0, 6.0, 6.0, 5.0, 5.0, 5.0, 6.0, 5.0, 5.0, 4.0, 4.0, 4.0, 4.0, 4.0, 3.0, 3.0, 3.0, 3.0, 3.0, 3.0, 3.0, 3.0, 0.0012651613214984536, 0.0012493940303102136, 0.001245946972630918, 0.001244062790647149, 0.0012445889879018068, 0.0012459317222237587, 0.0012424999149516225, 0.0012419086415320635, 0.0012403002474457026, 0.001240971963852644, 0.001240338897332549, 0.0012406628811731935, 0.0012391466880217195, 0.0012385343434289098, 0.0012381726410239935, 0.0012379338731989264, 0.0012359244283288717, 0.0012328247539699078, 0.001234344090335071, 0.001233892049640417, 0.0012298692017793655, 0.001252535148523748, 0.001233464339748025, 0.001232942915521562, 0.0012495651608332992, 0.001230308203957975, 0.001230367342941463, 0.0012289468431845307, 0.0012304646661505103, 0.0012318163644522429, 0.0012491518864408135, 0.0012500297743827105, 0.0012442624429240823, 0.0012431088835000992, 0.0012438710546121001, 0.0012405812740325928, 0.0035342429764568806, 0.002302996115759015, 0.00234048580750823, 0.002095686038956046, 0.0020759296603500843, 0.00236970791593194, 0.0017113264184445143, 0.001625361037440598, 0.0016933194128796458, 0.0018263711826875806, 0.0018561366014182568, 0.0016731646610423923, 0.0017307663802057505, 0.00159485696349293, 0.0017196122789755464, 0.0020801429636776447, 0.0017541851848363876, 0.0016428213566541672, 0.001570817199535668, 0.0013837801525369287, 0.0013790617231279612, 0.0014690846437588334, 0.0014612058876082301, 0.001529992907308042, 0.001660006819292903, 0.0013686761958524585, 0.0016105471877381206, 0.0015160057228058577, 0.0015150156104937196, 0.0014464540872722864, 0.001555394846946001, 0.001450194395147264, 0.0014340084744617343, 0.0014696631114929914, 0.001471327617764473, 0.0014837022172287107, 0.0014904792187735438, 16.354413986206055, 12.320184707641602, 7.473066329956055, 6.634537220001221, 5.850162029266357, 5.041606903076172, 5.039656639099121, 4.21460485458374, 4.216119289398193, 4.222882270812988, 3.41778564453125, 3.423405885696411, 3.419236898422241, 3.415498733520508, 3.412897825241089, 3.4082233905792236, 3.421192169189453, 3.401880979537964, 3.411325216293335, 2.599813461303711, 2.5956411361694336, 2.605048656463623, 2.5944981575012207, 2.593111753463745, 2.599837064743042, 2.592759132385254, 2.5964810848236084, 2.5930349826812744, 1.797066330909729, 1.7950451374053955, 6.64713716506958, 6.609228610992432, 5.023096561431885, 4.19197416305542, 3.4034316539764404, 2.6092569828033447, 2.6099021434783936, 2.605220079421997, 2.6014418601989746, 13.707783699035645, 9.806448936462402, 6.54734992980957, 5.716919422149658, 4.9813947677612305, 4.194547176361084, 3.3724467754364014, 3.36225962638855, 3.3414368629455566, 3.349045753479004, 2.586378812789917, 2.56962251663208, 2.5690743923187256, 2.5791168212890625, 2.561748504638672, 2.5672757625579834, 2.552793264389038, 2.556879997253418, 2.5334222316741943, 2.5402376651763916, 2.537642240524292, 2.5371463298797607, 2.531420946121216, 1.7745721340179443, 1.769585371017456, 1.7695118188858032, 1.7651921510696411, 1.766938328742981, 1.7657872438430786, 1.7684965133666992, 7.274052143096924, 1.7675442695617676, 2.580545663833618, 2.5869672298431396, 2.541407346725464, 1.7946017980575562, 1.775710105895996, 0.0012648901902139187, 0.0012629026314243674, 0.0012608536053448915, 0.0012576818699017167, 0.0012565257493406534, 0.0012580162147060037, 0.0012555057182908058, 0.0012533653061836958, 0.0012541005853563547, 0.001252578804269433, 0.0012496958952397108, 0.001250009168870747, 0.0012492070673033595, 0.0012483707396313548, 0.001243263017386198, 0.0012412824435159564, 0.0012412266805768013, 0.001238977420143783, 0.001238170894794166, 0.001238738652318716, 0.0012371981283649802, 0.0012369368923828006, 0.0012346981093287468, 0.0012349149910733104, 0.001233212766237557, 0.00123171869199723, 0.0012310765450820327, 0.0012313368497416377, 0.0012303702533245087, 0.0012308816658332944, 0.0014486729633063078, 0.002306509530171752, 0.002447610953822732, 0.0014139737468212843, 0.002350105904042721, 0.002443941542878747, 0.0015977678121998906, 0.0017290282994508743, 0.0018336984794586897, 0.001850020606070757, 0.0016824263148009777, 0.00147776969242841, 0.001466482295654714, 0.0017654154216870666, 0.0013673539506271482, 0.0015799268148839474, 0.001578697469085455, 0.0015085734194144607, 0.001664091250859201, 0.0014324834337458014, 0.0013575527118518949, 0.0015686781844124198, 0.0016528272535651922, 0.0014789043925702572, 0.0015879124402999878, 0.001518817851319909, 0.0016396897844970226, 0.0014181487495079637, 0.0015082266181707382, 0.001567868166603148, 0.001416715676896274, 0.0014962381683290005, 0.001457343460060656, 0.0014885412529110909, 0.001516317599453032, 0.001480457023717463, 0.0012465643230825663, 0.0012414265656843781, 0.0012428145855665207, 0.001242813072167337, 0.0012399032711982727, 0.0012373036006465554, 0.0012399544939398766, 0.001239792094565928, 0.001240479527041316, 0.0012375946389511228, 0.001236242358572781, 0.001233740826137364, 0.0012354872887954116, 0.0012381062842905521, 0.0012361411936581135, 0.0012365741422399879, 0.001236422685906291, 0.0012376082595437765, 0.0012360229156911373, 0.0012382916174829006, 0.0012356772786006331, 0.0012351617915555835, 0.0012365842703729868, 0.0012346884468570352, 0.0012346358271315694, 0.0012350315228104591, 0.0012365319998934865, 0.0012554196873679757, 0.0012337573571130633, 0.001232130452990532, 0.0012345344293862581, 0.0012534565757960081, 0.0012489059008657932, 0.0012493435060605407, 0.0012505686609074473, 0.0012477738782763481, 0.001248972024768591, 0.0012462838785722852, 0.001244484563358128, 0.0012473927345126867, 0.0012480670120567083, 0.0012471986701712012, 0.0012454977259039879, 0.0012446368345990777, 0.0012434028321877122, 0.001243371283635497, 0.001244288869202137, 0.0012433446245267987, 0.001245032181032002, 0.0012450151843950152, 0.0012442466104403138, 0.0012433642987161875, 0.0012438191333785653, 0.0012440308928489685, 0.0012432730291038752, 0.0017577271210029721, 0.0016160975210368633, 0.0014773494331166148, 0.0014519821852445602, 0.0013555932091549039, 0.0014824261888861656, 0.0014040141832083464, 0.0015428137267008424, 0.0014691123506054282, 0.0014226434286683798, 0.0014014680637046695, 0.0014148993650451303, 0.001388251781463623, 0.0013674658257514238, 0.0013898127945140004, 0.0014220897573977709, 0.0014496748335659504, 0.0014265828067436814, 0.0014091565972194076, 0.0013918242184445262, 0.0013545422116294503, 0.001327630947344005, 0.0013527163537219167, 0.0013484462397173047, 0.0013272606302052736, 0.0013267295435070992, 0.0014056125655770302, 0.0012947669019922614, 0.0012943563051521778, 0.0013586828717961907, 0.0013413529377430677, 0.0013208793243393302, 0.0013488165568560362, 0.001372883329167962, 0.0013400657335296273, 0.001340106944553554], \"Term\": [\"conference\", \"enron\", \"market\", \"brian\", \"asset\", \"option\", \"pdf\", \"service\", \"management\", \"message\", \"euci\", \"stock\", \"link\", \"power\", \"process\", \"line\", \"new\", \"brochure\", \"generation\", \"design\", \"dotted\", \"also\", \"march\", \"system\", \"obtained\", \"transmission\", \"atlanta\", \"ancillary\", \"overview\", \"electric\", \"difficulty\", \"owned\", \"employe\", \"full\", \"mark\", \"appreciation\", \"due\", \"street\", \"sound\", \"lay\", \"every\", \"home\", \"surpassed\", \"document\", \"information\", \"coming\", \"recognition\", \"next\", \"commitment\", \"provision\", \"accordance\", \"generator\", \"performing\", \"plea\", \"parameter\", \"wall\", \"legality\", \"st\", \"transcript\", \"tv\", \"covered\", \"mrktdesgn\", \"status\", \"lmrig\", \"trans\", \"possible\", \"conference\", \"service\", \"option\", \"asset\", \"management\", \"market\", \"time\", \"march\", \"company\", \"euci\", \"pdf\", \"brochure\", \"power\", \"ancillary\", \"new\", \"enron\", \"process\", \"generation\", \"electric\", \"long\", \"award\", \"percent\", \"receive\", \"overview\", \"stock\", \"based\", \"link\", \"system\", \"obtained\", \"special\", \"design\", \"electricity\", \"price\", \"grant\", \"transmission\", \"term\", \"message\", \"conference\", \"market\", \"asset\", \"pdf\", \"euci\", \"link\", \"power\", \"brochure\", \"generation\", \"design\", \"march\", \"transmission\", \"electric\", \"ancillary\", \"atlanta\", \"obtained\", \"clicking\", \"system\", \"overview\", \"trading\", \"performance\", \"competitive\", \"proceeding\", \"electricity\", \"pricing\", \"wyndham\", \"hotel\", \"portfolio\", \"initiative\", \"u\", \"management\", \"service\", \"process\", \"new\", \"also\", \"issue\", \"term\", \"time\", \"perspective\", \"enron\", \"brian\", \"message\", \"stock\", \"line\", \"dotted\", \"stanley\", \"louise\", \"work\", \"grant\", \"straight\", \"engineer\", \"development\", \"dodson\", \"keith\", \"hou\", \"technical\", \"group\", \"receive\", \"week\", \"people\", \"special\", \"percent\", \"told\", \"redmond\", \"unit\", \"left\", \"kitchen\", \"versus\", \"ena\", \"option\", \"aligned\", \"day\", \"business\", \"company\", \"term\", \"wholesale\", \"focal\", \"required\", \"spend\", \"state\", \"structure\", \"stacked\", \"together\", \"keep\", \"concept\", \"comment\", \"aside\", \"staff\", \"quality\", \"future\", \"fit\", \"miscommunications\", \"hurdle\", \"still\", \"one\", \"others\", \"least\", \"let\", \"resulting\", \"allows\", \"approach\", \"origination\", \"connected\", \"receiving\", \"control\", \"team\", \"solid\", \"brian\", \"market\", \"eeos\", \"enron\", \"conference\", \"louise\", \"new\", \"pdf\", \"management\", \"line\", \"group\", \"keith\", \"service\", \"eu\", \"business\", \"also\", \"perspective\", \"message\", \"hou\", \"corporate\", \"link\", \"asset\", \"stanley\", \"euci\", \"design\", \"option\", \"engineer\", \"generation\", \"process\", \"development\", \"brochure\", \"work\", \"dotted\", \"stock\", \"time\", \"enr\", \"owned\", \"home\", \"structure\", \"sound\", \"full\", \"every\", \"available\", \"state\", \"recognition\", \"employe\", \"difficulty\", \"accordance\", \"desk\", \"wall\", \"pc\", \"fully\", \"restriction\", \"card\", \"human\", \"information\", \"help\", \"location\", \"lay\", \"legality\", \"regarding\", \"tv\", \"recently\", \"document\", \"next\", \"may\", \"technology\", \"plant\", \"model\", \"key\", \"village\", \"discus\", \"various\", \"parameter\", \"website\", \"efficient\", \"region\", \"congestion\", \"section\", \"powergeneration\", \"ratemaking\", \"regime\", \"colorado\", \"rto\", \"ercot\", \"held\", \"planner\", \"customer\", \"distribution\", \"register\", \"conference\", \"market\", \"pdf\", \"stock\", \"pricing\", \"asset\", \"also\", \"enron\", \"service\", \"link\", \"brochure\", \"power\", \"company\", \"system\", \"design\", \"euci\", \"option\", \"message\", \"process\", \"new\", \"transmission\", \"price\", \"atlanta\", \"clicking\", \"proceeding\", \"electricity\", \"management\", \"based\", \"downtown\", \"generation\", \"issue\", \"hotel\", \"term\", \"brian\", \"time\", \"business\"], \"Total\": [16.0, 13.0, 12.0, 9.0, 7.0, 8.0, 6.0, 7.0, 7.0, 6.0, 6.0, 5.0, 5.0, 5.0, 6.0, 5.0, 5.0, 4.0, 4.0, 4.0, 4.0, 4.0, 3.0, 3.0, 3.0, 3.0, 3.0, 3.0, 3.0, 3.0, 1.1287176609039307, 1.128749132156372, 1.130455493927002, 1.1292463541030884, 1.1299625635147095, 1.1315752267837524, 1.1319563388824463, 1.1323813199996948, 1.1314276456832886, 1.1322836875915527, 1.1318293809890747, 1.132675290107727, 1.1318453550338745, 1.1316758394241333, 1.1323777437210083, 1.1325838565826416, 1.1316536664962769, 1.1303060054779053, 1.1332981586456299, 1.133082389831543, 1.1304835081100464, 1.1513828039169312, 1.1341532468795776, 1.1340430974960327, 1.1495243310928345, 1.132063865661621, 1.1322382688522339, 1.1314280033111572, 1.1328459978103638, 1.1341564655303955, 1.150702714920044, 1.1530251502990723, 1.1484037637710571, 1.149044156074524, 1.1545239686965942, 1.152348279953003, 16.680419921875, 7.641565799713135, 8.299513816833496, 7.71417236328125, 7.672250270843506, 12.628954887390137, 4.369758129119873, 3.608088493347168, 4.345229625701904, 6.074746608734131, 6.874516010284424, 4.416470050811768, 5.262059688568115, 3.6183104515075684, 5.198509216308594, 13.95131778717041, 6.063328742980957, 4.425008773803711, 3.620547294616699, 1.9466028213500977, 1.9209387302398682, 2.7226133346557617, 2.717069625854492, 3.617905616760254, 5.923924922943115, 1.9641200304031372, 5.260891914367676, 3.6054346561431885, 3.611830234527588, 2.7284305095672607, 4.432228088378906, 2.788442611694336, 2.746464252471924, 3.539686441421509, 3.6174638271331787, 4.4087700843811035, 6.7526960372924805, 16.680419921875, 12.628954887390137, 7.71417236328125, 6.874516010284424, 6.074746608734131, 5.260891914367676, 5.262059688568115, 4.416470050811768, 4.425008773803711, 4.432228088378906, 3.608088493347168, 3.6174638271331787, 3.620547294616699, 3.6183104515075684, 3.6166579723358154, 3.611830234527588, 3.6256885528564453, 3.6054346561431885, 3.617905616760254, 2.789219379425049, 2.7862584590911865, 2.7984378337860107, 2.7889654636383057, 2.788442611694336, 2.7975339889526367, 2.790269136428833, 2.7942757606506348, 2.792118549346924, 1.9769073724746704, 1.9751975536346436, 7.672250270843506, 7.641565799713135, 6.063328742980957, 5.198509216308594, 4.408353805541992, 3.598564624786377, 4.4087700843811035, 4.369758129119873, 3.590210199356079, 13.95131778717041, 9.997565269470215, 6.7526960372924805, 5.923924922943115, 5.166922569274902, 4.375344276428223, 3.5536391735076904, 3.542978048324585, 3.5303902626037598, 3.539686441421509, 2.764369249343872, 2.748058795928955, 2.7476062774658203, 2.7584400177001953, 2.7405428886413574, 2.7466444969177246, 2.7336313724517822, 2.738349199295044, 2.717069625854492, 2.726322650909424, 2.7260539531707764, 2.7284305095672607, 2.7226133346557617, 1.9504725933074951, 1.9458483457565308, 1.9459340572357178, 1.9414794445037842, 1.9436099529266357, 1.9428269863128662, 1.946008563041687, 8.299513816833496, 1.945433497428894, 3.5666468143463135, 4.383244037628174, 4.345229625701904, 4.4087700843811035, 2.7615959644317627, 1.1338937282562256, 1.1358582973480225, 1.1346275806427002, 1.1337370872497559, 1.1333646774291992, 1.1349396705627441, 1.1368991136550903, 1.1363794803619385, 1.1372387409210205, 1.1367599964141846, 1.1367040872573853, 1.1370041370391846, 1.1374588012695312, 1.1379867792129517, 1.1378904581069946, 1.1370508670806885, 1.1378378868103027, 1.1379327774047852, 1.1380184888839722, 1.1394541263580322, 1.1392076015472412, 1.1394861936569214, 1.1396292448043823, 1.1405035257339478, 1.1399482488632202, 1.1393483877182007, 1.1394790410995483, 1.139891505241394, 1.139693021774292, 1.1405130624771118, 1.9259299039840698, 9.997565269470215, 12.628954887390137, 1.9314351081848145, 13.95131778717041, 16.680419921875, 3.542978048324585, 5.198509216308594, 6.874516010284424, 7.672250270843506, 5.166922569274902, 2.738349199295044, 2.7405428886413574, 7.641565799713135, 1.9380582571029663, 4.383244037628174, 4.408353805541992, 3.590210199356079, 6.7526960372924805, 2.7466444969177246, 1.9380158185958862, 5.260891914367676, 7.71417236328125, 3.5536391735076904, 6.074746608734131, 4.432228088378906, 8.299513816833496, 2.748058795928955, 4.425008773803711, 6.063328742980957, 2.7476062774658203, 4.416470050811768, 3.5303902626037598, 4.375344276428223, 5.923924922943115, 4.369758129119873, 1.1326658725738525, 1.128749132156372, 1.132675290107727, 1.1333646774291992, 1.1314276456832886, 1.1292463541030884, 1.1318293809890747, 1.132580041885376, 1.1337370872497559, 1.1316536664962769, 1.130455493927002, 1.1287176609039307, 1.1304835081100464, 1.1337134838104248, 1.132063865661621, 1.132588505744934, 1.1325567960739136, 1.13364839553833, 1.1324821710586548, 1.1346485614776611, 1.1323777437210083, 1.1325881481170654, 1.1339231729507446, 1.1322836875915527, 1.1322382688522339, 1.1327242851257324, 1.1341564655303955, 1.151505470275879, 1.1316758394241333, 1.1303060054779053, 1.1329981088638306, 1.1546467542648315, 1.151214361190796, 1.1521320343017578, 1.1565682888031006, 1.1525036096572876, 1.1566563844680786, 1.1528770923614502, 1.1495243310928345, 1.1554533243179321, 1.157118797302246, 1.1559253931045532, 1.1544413566589355, 1.153488278388977, 1.1510134935379028, 1.1519004106521606, 1.1548715829849243, 1.152146816253662, 1.1579532623291016, 1.1584066152572632, 1.15572190284729, 1.1529353857040405, 1.155042052268982, 1.1563575267791748, 1.1552612781524658, 16.680419921875, 12.628954887390137, 6.874516010284424, 5.923924922943115, 2.7975339889526367, 7.71417236328125, 4.408353805541992, 13.95131778717041, 7.641565799713135, 5.260891914367676, 4.416470050811768, 5.262059688568115, 4.345229625701904, 3.6054346561431885, 4.432228088378906, 6.074746608734131, 8.299513816833496, 6.7526960372924805, 6.063328742980957, 5.198509216308594, 3.6174638271331787, 2.746464252471924, 3.6166579723358154, 3.6256885528564453, 2.7889654636383057, 2.788442611694336, 7.672250270843506, 1.9641200304031372, 1.963135838508606, 4.425008773803711, 3.598564624786377, 2.7942757606506348, 4.4087700843811035, 9.997565269470215, 4.369758129119873, 4.383244037628174], \"loglift\": [30.0, 29.0, 28.0, 27.0, 26.0, 25.0, 24.0, 23.0, 22.0, 21.0, 20.0, 19.0, 18.0, 17.0, 16.0, 15.0, 14.0, 13.0, 12.0, 11.0, 10.0, 9.0, 8.0, 7.0, 6.0, 5.0, 4.0, 3.0, 2.0, 1.0, 0.4571000039577484, 0.444599986076355, 0.44029998779296875, 0.4399000108242035, 0.43970000743865967, 0.439300000667572, 0.43619999289512634, 0.43540000915527344, 0.4348999857902527, 0.43470001220703125, 0.43459999561309814, 0.4341000020503998, 0.4336000084877014, 0.4332999885082245, 0.43230000138282776, 0.4320000112056732, 0.4311999976634979, 0.42989999055862427, 0.4284000098705292, 0.42829999327659607, 0.42730000615119934, 0.42719998955726624, 0.4269999861717224, 0.42660000920295715, 0.42649999260902405, 0.4262999892234802, 0.4260999858379364, 0.42570000886917114, 0.42570000886917114, 0.42559999227523804, 0.4250999987125397, 0.423799991607666, 0.42320001125335693, 0.42170000076293945, 0.41760000586509705, 0.41679999232292175, -1.2086999416351318, -0.8564000129699707, -0.9228000044822693, -0.960099995136261, -0.9642000198364258, -1.330199956893921, -0.5943999886512756, -0.4544000029563904, -0.599399983882904, -0.8587999939918518, -0.9663000106811523, -0.6276000142097473, -0.7688999772071838, -0.47620001435279846, -0.7631999850273132, -1.5600999593734741, -0.8971999883651733, -0.6478000283241272, -0.492000013589859, 0.0017999999690800905, 0.011599999852478504, -0.27390000224113464, -0.27730000019073486, -0.5175999999046326, -0.929099977016449, -0.018200000748038292, -0.8406999707221985, -0.5232999920845032, -0.5257999897003174, -0.29159998893737793, -0.7041000127792358, -0.3107999861240387, -0.3068000078201294, -0.5360000133514404, -0.5565999746322632, -0.7459999918937683, -1.167799949645996, 0.6450999975204468, 0.6401000022888184, 0.6330999732017517, 0.6292999982833862, 0.6272000074386597, 0.6223000288009644, 0.6216999888420105, 0.6180999875068665, 0.6165000200271606, 0.6165000200271606, 0.6107000112533569, 0.6097000241279602, 0.6075999736785889, 0.607200026512146, 0.6068999767303467, 0.6068000197410583, 0.6068000197410583, 0.6067000031471252, 0.6060000061988831, 0.5945000052452087, 0.593999981880188, 0.5932000279426575, 0.5925999879837036, 0.592199981212616, 0.5916000008583069, 0.5914000272750854, 0.5914000272750854, 0.5909000039100647, 0.5695000290870667, 0.5691999793052673, 0.521399974822998, 0.5196999907493591, 0.4765999913215637, 0.4496000111103058, 0.40610000491142273, 0.3434000015258789, 0.14059999585151672, 0.1476999968290329, 0.3427000045776367, 0.7091000080108643, 0.7074000239372253, 0.6958000063896179, 0.691100001335144, 0.6901000142097473, 0.684499979019165, 0.6743000149726868, 0.6743000149726868, 0.6717000007629395, 0.6712999939918518, 0.660099983215332, 0.659500002861023, 0.659500002861023, 0.659500002861023, 0.6592000126838684, 0.6590999960899353, 0.6582000255584717, 0.6581000089645386, 0.6567000150680542, 0.656000018119812, 0.6549999713897705, 0.6539999842643738, 0.6539000272750854, 0.6322000026702881, 0.6316999793052673, 0.631600022315979, 0.6315000057220459, 0.6313999891281128, 0.6310999989509583, 0.6309999823570251, 0.5947999954223633, 0.6308000087738037, 0.40299999713897705, 0.19939999282360077, 0.19030000269412994, -0.1720999926328659, 0.2851000130176544, 0.45239999890327454, 0.44909998774528503, 0.44859999418258667, 0.44679999351501465, 0.44620001316070557, 0.44600000977516174, 0.4422999918460846, 0.44110000133514404, 0.4408999979496002, 0.4401000142097473, 0.43779999017715454, 0.43779999017715454, 0.4368000030517578, 0.43560001254081726, 0.43160000443458557, 0.4307999908924103, 0.4300000071525574, 0.42809998989105225, 0.42739999294281006, 0.42660000920295715, 0.42559999227523804, 0.4250999987125397, 0.42320001125335693, 0.42260000109672546, 0.42170000076293945, 0.42100000381469727, 0.4203999936580658, 0.420199990272522, 0.4196000099182129, 0.41929998993873596, 0.05829999968409538, -1.1234999895095825, -1.2977999448776245, 0.031199999153614044, -1.437999963760376, -1.5776000022888184, -0.45329999923706055, -0.7577000260353088, -0.9783999919891357, -1.079300045967102, -0.7789999842643738, -0.27379998564720154, -0.28220000863075256, -1.1220999956130981, -0.00570000009611249, -0.677299976348877, -0.6837999820709229, -0.5239999890327454, -1.0576000213623047, -0.30790001153945923, -0.012900000438094139, -0.8669999837875366, -1.1974999904632568, -0.5335999727249146, -0.9987000226974487, -0.7279000282287598, -1.2785999774932861, -0.31850001215934753, -0.733299970626831, -1.0095000267028809, -0.31929999589920044, -0.739300012588501, -0.541700005531311, -0.7350999712944031, -1.0196000337600708, -0.739300012588501, 0.4392000138759613, 0.43849998712539673, 0.4361000061035156, 0.43549999594688416, 0.4348999857902527, 0.43470001220703125, 0.43459999561309814, 0.43380001187324524, 0.4332999885082245, 0.4327999949455261, 0.4327999949455261, 0.43230000138282776, 0.43220001459121704, 0.43140000104904175, 0.43130001425743103, 0.4311999976634979, 0.4311000108718872, 0.4311000108718872, 0.4307999908924103, 0.43070000410079956, 0.43059998750686646, 0.4300000071525574, 0.4300000071525574, 0.42989999055862427, 0.42989999055862427, 0.42980000376701355, 0.42980000376701355, 0.42969998717308044, 0.42969998717308044, 0.4296000003814697, 0.4291999936103821, 0.4253999888896942, 0.42480000853538513, 0.4242999851703644, 0.42149999737739563, 0.4228000044822693, 0.42010000348091125, 0.4212000072002411, 0.4226999878883362, 0.41990000009536743, 0.4189999997615814, 0.41929998993873596, 0.41929998993873596, 0.41940000653266907, 0.4205000102519989, 0.4198000133037567, 0.4178999960422516, 0.4194999933242798, 0.415800005197525, 0.4153999984264374, 0.4171000123023987, 0.4187999963760376, 0.4174000024795532, 0.4163999855518341, 0.41679999232292175, -1.9069000482559204, -1.7125999927520752, -1.194200038909912, -1.0627000331878662, -0.38119998574256897, -1.305999994277954, -0.8008000254631042, -1.8586000204086304, -1.3056000471115112, -0.9643999934196472, -0.8044999837875366, -0.9700999855995178, -0.7976999878883362, -0.6261000037193298, -0.8163999915122986, -1.1087000370025635, -1.4014999866485596, -1.211300015449524, -1.1159000396728516, -0.974399983882904, -0.6389999985694885, -0.38359999656677246, -0.6401000022888184, -0.645799994468689, -0.3991999924182892, -0.399399995803833, -1.3538000583648682, -0.07339999824762344, -0.07320000231266022, -0.8374000191688538, -0.6434999704360962, -0.4059000015258789, -0.8410000205039978, -1.6420999765396118, -0.8385999798774719, -0.84170001745224], \"logprob\": [30.0, 29.0, 28.0, 27.0, 26.0, 25.0, 24.0, 23.0, 22.0, 21.0, 20.0, 19.0, 18.0, 17.0, 16.0, 15.0, 14.0, 13.0, 12.0, 11.0, 10.0, 9.0, 8.0, 7.0, 6.0, 5.0, 4.0, 3.0, 2.0, 1.0, -6.158699989318848, -6.171299934387207, -6.173999786376953, -6.175600051879883, -6.175099849700928, -6.174099922180176, -6.176799774169922, -6.177299976348877, -6.178599834442139, -6.177999973297119, -6.178599834442139, -6.178299903869629, -6.179500102996826, -6.179999828338623, -6.180300235748291, -6.180500030517578, -6.18209981918335, -6.184599876403809, -6.1834001541137695, -6.183800220489502, -6.186999797821045, -6.168799877166748, -6.184100151062012, -6.184500217437744, -6.17110013961792, -6.186699867248535, -6.186600208282471, -6.18779993057251, -6.186500072479248, -6.185400009155273, -6.171500205993652, -6.17080020904541, -6.1753997802734375, -6.176300048828125, -6.1757001876831055, -6.178400039672852, -5.131400108337402, -5.559700012207031, -5.543600082397461, -5.654099941253662, -5.66349983215332, -5.531199932098389, -5.8566999435424805, -5.908199787139893, -5.867199897766113, -5.791600227355957, -5.775400161743164, -5.879199981689453, -5.845399856567383, -5.927199840545654, -5.851799964904785, -5.661499977111816, -5.831900119781494, -5.897500038146973, -5.942299842834473, -6.0690999031066895, -6.072500228881836, -6.009300231933594, -6.014699935913086, -5.968699932098389, -5.8871002197265625, -6.080100059509277, -5.917399883270264, -5.97790002822876, -5.978499889373779, -6.024799823760986, -5.952199935913086, -6.022200107574463, -6.0335001945495605, -6.008900165557861, -6.007800102233887, -5.9994001388549805, -5.994800090789795, -3.277600049972534, -3.5608999729156494, -4.060800075531006, -4.179800033569336, -4.305699825286865, -4.454400062561035, -4.454800128936768, -4.633600234985352, -4.633200168609619, -4.6315999031066895, -4.843100070953369, -4.8414998054504395, -4.842700004577637, -4.843800067901611, -4.844600200653076, -4.845900058746338, -4.842100143432617, -4.847799777984619, -4.84499979019165, -5.116700172424316, -5.118299961090088, -5.114699840545654, -5.11870002746582, -5.11929988861084, -5.116700172424316, -5.1194000244140625, -5.118000030517578, -5.11929988861084, -5.486000061035156, -5.487100124359131, -4.1778998374938965, -4.183700084686279, -4.458099842071533, -4.638999938964844, -4.847300052642822, -5.113100051879883, -5.112800121307373, -5.11460018157959, -5.116099834442139, -3.3922998905181885, -3.727299928665161, -4.131199836730957, -4.266900062561035, -4.404600143432617, -4.576499938964844, -4.7947001457214355, -4.797699928283691, -4.803899765014648, -4.801599979400635, -5.059999942779541, -5.066500186920166, -5.066800117492676, -5.062900066375732, -5.0696001052856445, -5.067500114440918, -5.0731000900268555, -5.071499824523926, -5.080699920654297, -5.078000068664551, -5.079100131988525, -5.0792999267578125, -5.081500053405762, -5.436699867248535, -5.439599990844727, -5.439599990844727, -5.441999912261963, -5.440999984741211, -5.441699981689453, -5.440199851989746, -4.026000022888184, -5.440700054168701, -5.062300205230713, -5.059800148010254, -5.077600002288818, -5.42549991607666, -5.436100006103516, -6.158899784088135, -6.1605000495910645, -6.162099838256836, -6.164599895477295, -6.165500164031982, -6.164400100708008, -6.166399955749512, -6.168099880218506, -6.167500019073486, -6.168700218200684, -6.171000003814697, -6.1707000732421875, -6.17140007019043, -6.172100067138672, -6.176199913024902, -6.177800178527832, -6.177800178527832, -6.179599761962891, -6.180300235748291, -6.179800033569336, -6.181000232696533, -6.181300163269043, -6.18310022354126, -6.1828999519348145, -6.184299945831299, -6.185500144958496, -6.185999870300293, -6.185800075531006, -6.186600208282471, -6.186200141906738, -6.023200035095215, -5.558199882507324, -5.498799800872803, -6.047500133514404, -5.539400100708008, -5.50029993057251, -5.925300121307373, -5.84630012512207, -5.787600040435791, -5.77869987487793, -5.873700141906738, -6.003399848937988, -6.011000156402588, -5.825500011444092, -6.080999851226807, -5.936500072479248, -5.937300205230713, -5.982699871063232, -5.8846001625061035, -6.0345001220703125, -6.088200092315674, -5.943699836730957, -5.89139986038208, -6.002600193023682, -5.93149995803833, -5.97599983215332, -5.899400234222412, -6.04449987411499, -5.982999801635742, -5.944200038909912, -6.045599937438965, -5.990900039672852, -6.017300128936768, -5.996099948883057, -5.97760009765625, -6.001500129699707, -6.1732001304626465, -6.1774001121521, -6.176199913024902, -6.176300048828125, -6.178599834442139, -6.180699825286865, -6.178599834442139, -6.178699970245361, -6.178100109100342, -6.180500030517578, -6.181600093841553, -6.183599948883057, -6.182199954986572, -6.179999828338623, -6.181600093841553, -6.181300163269043, -6.181399822235107, -6.1803998947143555, -6.181700229644775, -6.179900169372559, -6.182000160217285, -6.182400226593018, -6.181300163269043, -6.182799816131592, -6.1828999519348145, -6.182499885559082, -6.181300163269043, -6.166200160980225, -6.183599948883057, -6.184899806976318, -6.1828999519348145, -6.167699813842773, -6.17140007019043, -6.171000003814697, -6.170000076293945, -6.172299861907959, -6.171299934387207, -6.173500061035156, -6.174900054931641, -6.172599792480469, -6.171999931335449, -6.172699928283691, -6.174099922180176, -6.174799919128418, -6.17579984664917, -6.17579984664917, -6.175099849700928, -6.17579984664917, -6.174499988555908, -6.174499988555908, -6.175099849700928, -6.17579984664917, -6.1753997802734375, -6.175300121307373, -6.175899982452393, -5.829599857330322, -5.913599967956543, -6.003399848937988, -6.020699977874756, -6.089399814605713, -5.999899864196777, -6.054299831390381, -5.960000038146973, -6.008999824523926, -6.041100025177002, -6.056099891662598, -6.046599864959717, -6.0655999183654785, -6.080699920654297, -6.064499855041504, -6.041500091552734, -6.022299766540527, -6.038300037384033, -6.050600051879883, -6.063000202178955, -6.090199947357178, -6.110199928283691, -6.0914998054504395, -6.094699859619141, -6.110499858856201, -6.110899925231934, -6.053199768066406, -6.135300159454346, -6.1356000900268555, -6.087100028991699, -6.099899768829346, -6.115300178527832, -6.094399929046631, -6.076700210571289, -6.100900173187256, -6.100900173187256]}, \"token.table\": {\"Topic\": [3, 3, 3, 2, 3, 2, 3, 3, 3, 2, 2, 3, 3, 2, 3, 2, 2, 3, 3, 2, 2, 3, 3, 3, 2, 3, 2, 3, 2, 2, 3, 3, 3, 2, 2, 2, 3, 2, 3, 3, 3, 2, 2, 3, 3, 3, 2, 3, 3, 2, 2, 2, 3, 3, 3, 3, 3, 2, 3, 2, 3, 3, 3, 3, 3, 3, 2, 2, 3, 3, 2, 3, 3, 2, 3, 3, 3, 3, 2, 2, 3, 3, 3, 2, 3, 3, 3, 3, 3, 3, 3, 2, 2, 3, 2, 3, 3, 2, 3, 2, 3, 2, 3, 3, 3, 2, 2, 2, 3, 3, 2, 3, 2, 3, 3, 3, 2, 3, 2, 3, 2, 3, 3, 2, 3, 2, 3, 2, 2, 3, 2, 2, 2, 2, 2, 3, 2, 2, 2, 3, 3, 3, 2, 3, 3, 2, 3, 3, 3, 2, 2, 2, 3, 3, 3, 2, 2, 2, 3, 3, 3, 3, 3, 3, 3, 3, 3, 3, 2, 3, 3, 3, 3, 3, 3, 2, 3, 3, 2, 2, 3, 2, 3, 3, 3, 2, 2, 3, 2, 3, 2, 3, 2, 3, 2, 3, 2, 3, 2, 3, 3, 2], \"Freq\": [0.8845772743225098, 1.0280485153198242, 0.8768057227134705, 0.6805261373519897, 0.22684204578399658, 0.8291162252426147, 0.8837238550186157, 0.8772327899932861, 0.8797364234924316, 0.9074207544326782, 0.8294950723648071, 0.8829398155212402, 1.041157603263855, 1.0182677507400513, 1.0002435445785522, 0.90570068359375, 0.4562830626964569, 0.6844245791435242, 0.8830161094665527, 0.8274290561676025, 0.8679449558258057, 0.8829368352890015, 0.8796931505203247, 0.8823803067207336, 0.460274875164032, 0.6904122829437256, 1.0720267295837402, 0.8793228268623352, 0.9592084884643555, 0.8662198185920715, 0.8775940537452698, 0.8774292469024658, 1.0319833755493164, 0.8690341711044312, 0.8657693266868591, 0.2803753912448883, 0.8411262035369873, 0.9024806022644043, 0.8820570707321167, 1.0918594598770142, 0.8859611749649048, 0.8645610213279724, 0.8647844195365906, 0.8836452960968018, 1.0875712633132935, 0.9142137765884399, 1.0187782049179077, 0.883426308631897, 1.0354994535446167, 0.8642154932022095, 0.828603982925415, 1.0758693218231201, 0.8845991492271423, 1.0277446508407593, 1.0916796922683716, 0.8828728795051575, 1.0034894943237305, 0.863254725933075, 1.0319607257843018, 0.9876955151557922, 0.8835253715515137, 0.8788192272186279, 0.881916880607605, 0.8855463862419128, 0.882957935333252, 0.8787448406219482, 0.9039530158042908, 0.8685208559036255, 0.8475326895713806, 1.095550537109375, 0.8652600646018982, 0.882933497428894, 0.8828655481338501, 1.0736234188079834, 1.092241883277893, 0.881330132484436, 0.87885981798172, 0.8830975294113159, 1.0116811990737915, 0.8336657285690308, 0.27788856625556946, 0.8799877166748047, 1.0946736335754395, 0.8646268248558044, 1.0290130376815796, 0.8831709027290344, 0.8778031468391418, 1.0301423072814941, 0.883206307888031, 0.8775885105133057, 0.9676939845085144, 0.9504091739654541, 0.8702885508537292, 0.8818939328193665, 0.5137155055999756, 0.5137155055999756, 0.8467453122138977, 0.9123789668083191, 0.1303398609161377, 0.8314651846885681, 0.884985089302063, 0.9501973986625671, 0.882614016532898, 1.0366230010986328, 0.8794681429862976, 0.8679561018943787, 0.8672837615013123, 0.769451379776001, 0.19236284494400024, 0.8847161531448364, 0.830603837966919, 0.8787203431129456, 0.12048898637294769, 0.8434228897094727, 0.8776946663856506, 0.8776131868362427, 0.82920902967453, 0.885936439037323, 0.8699250221252441, 0.8829331994056702, 1.0182534456253052, 1.1004917621612549, 1.1018824577331543, 1.076712727546692, 0.8817150592803955, 0.8356056809425354, 0.27853521704673767, 0.8673512935638428, 0.8686479330062866, 0.8818007111549377, 1.0744529962539673, 0.8677932024002075, 0.9501982927322388, 0.8687995672225952, 0.3641045093536377, 0.7282090187072754, 1.0723730325698853, 1.0756676197052002, 0.824629545211792, 0.16492590308189392, 0.8825483322143555, 0.8791527152061462, 0.868130624294281, 1.104130744934082, 0.8772764801979065, 0.8684283494949341, 0.8836625814437866, 1.0278292894363403, 0.8828273415565491, 0.8658971190452576, 0.8651077151298523, 0.8656050562858582, 0.880391538143158, 0.8821077346801758, 0.8774783611297607, 0.8635926842689514, 0.8669355511665344, 0.9160426259040833, 0.1308632344007492, 1.0384594202041626, 0.8838391304016113, 1.099533200263977, 0.8813464641571045, 0.8838388323783875, 0.8811041116714478, 0.8795042634010315, 0.8442050218582153, 0.8820387125015259, 0.8707738518714905, 0.8787865042686462, 1.012842059135437, 1.0852385759353638, 0.8830947279930115, 0.8823285102844238, 0.8835129141807556, 0.8320772051811218, 0.8767983913421631, 1.09744131565094, 0.8660657405853271, 0.6804618835449219, 0.45364126563072205, 0.6865368485450745, 0.4576912224292755, 0.8795855045318604, 1.0253925323486328, 1.075569748878479, 0.8661578297615051, 0.8827325105667114, 0.8293102979660034, 0.8817125558853149, 1.0125569105148315, 1.0277841091156006, 0.8673951625823975, 1.0294277667999268, 0.8676762580871582, 0.8833423852920532, 0.8654611706733704, 1.1003832817077637, 0.3621094524860382, 0.7242189049720764, 0.8497644066810608, 1.0751651525497437], \"Term\": [\"accordance\", \"aligned\", \"allows\", \"also\", \"also\", \"ancillary\", \"appreciation\", \"approach\", \"aside\", \"asset\", \"atlanta\", \"available\", \"award\", \"based\", \"brian\", \"brochure\", \"business\", \"business\", \"card\", \"clicking\", \"colorado\", \"coming\", \"comment\", \"commitment\", \"company\", \"company\", \"competitive\", \"concept\", \"conference\", \"congestion\", \"connected\", \"control\", \"corporate\", \"covered\", \"customer\", \"day\", \"day\", \"design\", \"desk\", \"development\", \"difficulty\", \"discus\", \"distribution\", \"document\", \"dodson\", \"dotted\", \"downtown\", \"due\", \"eeos\", \"efficient\", \"electric\", \"electricity\", \"employe\", \"ena\", \"engineer\", \"enr\", \"enron\", \"ercot\", \"eu\", \"euci\", \"every\", \"fit\", \"focal\", \"full\", \"fully\", \"future\", \"generation\", \"generator\", \"grant\", \"group\", \"held\", \"help\", \"home\", \"hotel\", \"hou\", \"human\", \"hurdle\", \"information\", \"initiative\", \"issue\", \"issue\", \"keep\", \"keith\", \"key\", \"kitchen\", \"lay\", \"least\", \"left\", \"legality\", \"let\", \"line\", \"link\", \"lmrig\", \"location\", \"long\", \"long\", \"louise\", \"management\", \"management\", \"march\", \"mark\", \"market\", \"may\", \"message\", \"miscommunications\", \"model\", \"mrktdesgn\", \"new\", \"new\", \"next\", \"obtained\", \"one\", \"option\", \"option\", \"origination\", \"others\", \"overview\", \"owned\", \"parameter\", \"pc\", \"pdf\", \"people\", \"percent\", \"performance\", \"performing\", \"perspective\", \"perspective\", \"planner\", \"plant\", \"plea\", \"portfolio\", \"possible\", \"power\", \"powergeneration\", \"price\", \"price\", \"pricing\", \"proceeding\", \"process\", \"process\", \"provision\", \"quality\", \"ratemaking\", \"receive\", \"receiving\", \"recently\", \"recognition\", \"redmond\", \"regarding\", \"regime\", \"region\", \"register\", \"required\", \"restriction\", \"resulting\", \"rto\", \"section\", \"service\", \"service\", \"solid\", \"sound\", \"special\", \"spend\", \"st\", \"stacked\", \"staff\", \"stanley\", \"state\", \"status\", \"still\", \"stock\", \"straight\", \"street\", \"structure\", \"surpassed\", \"system\", \"team\", \"technical\", \"technology\", \"term\", \"term\", \"time\", \"time\", \"together\", \"told\", \"trading\", \"trans\", \"transcript\", \"transmission\", \"tv\", \"u\", \"unit\", \"various\", \"versus\", \"village\", \"wall\", \"website\", \"week\", \"wholesale\", \"wholesale\", \"work\", \"wyndham\"]}, \"R\": 30, \"lambda.step\": 0.01, \"plot.opts\": {\"xlab\": \"PC1\", \"ylab\": \"PC2\"}, \"topic.order\": [1, 2, 3, 4, 5]};\n",
       "\n",
       "function LDAvis_load_lib(url, callback){\n",
       "  var s = document.createElement('script');\n",
       "  s.src = url;\n",
       "  s.async = true;\n",
       "  s.onreadystatechange = s.onload = callback;\n",
       "  s.onerror = function(){console.warn(\"failed to load library \" + url);};\n",
       "  document.getElementsByTagName(\"head\")[0].appendChild(s);\n",
       "}\n",
       "\n",
       "if(typeof(LDAvis) !== \"undefined\"){\n",
       "   // already loaded: just create the visualization\n",
       "   !function(LDAvis){\n",
       "       new LDAvis(\"#\" + \"ldavis_el22201126667830802330783164\", ldavis_el22201126667830802330783164_data);\n",
       "   }(LDAvis);\n",
       "}else if(typeof define === \"function\" && define.amd){\n",
       "   // require.js is available: use it to load d3/LDAvis\n",
       "   require.config({paths: {d3: \"https://cdnjs.cloudflare.com/ajax/libs/d3/3.5.5/d3.min\"}});\n",
       "   require([\"d3\"], function(d3){\n",
       "      window.d3 = d3;\n",
       "      LDAvis_load_lib(\"https://cdn.rawgit.com/bmabey/pyLDAvis/files/ldavis.v1.0.0.js\", function(){\n",
       "        new LDAvis(\"#\" + \"ldavis_el22201126667830802330783164\", ldavis_el22201126667830802330783164_data);\n",
       "      });\n",
       "    });\n",
       "}else{\n",
       "    // require.js not available: dynamically load d3 & LDAvis\n",
       "    LDAvis_load_lib(\"https://cdnjs.cloudflare.com/ajax/libs/d3/3.5.5/d3.min.js\", function(){\n",
       "         LDAvis_load_lib(\"https://cdn.rawgit.com/bmabey/pyLDAvis/files/ldavis.v1.0.0.js\", function(){\n",
       "                 new LDAvis(\"#\" + \"ldavis_el22201126667830802330783164\", ldavis_el22201126667830802330783164_data);\n",
       "            })\n",
       "         });\n",
       "}\n",
       "</script>"
      ],
      "text/plain": [
       "<IPython.core.display.HTML object>"
      ]
     },
     "execution_count": 35,
     "metadata": {},
     "output_type": "execute_result"
    }
   ],
   "source": [
    "import pyLDAvis.gensim\n",
    "\n",
    "lda_display = pyLDAvis.gensim.prepare(ldamodel, corpus, dictionary, sort_topics=False)\n",
    "\n",
    "pyLDAvis.display(lda_display)"
   ]
  },
  {
   "cell_type": "code",
   "execution_count": 36,
   "metadata": {},
   "outputs": [
    {
     "name": "stdout",
     "output_type": "stream",
     "text": [
      "   Dominant_Topic   % Score  \\\n",
      "0             2.0  0.996220   \n",
      "1             2.0  0.995972   \n",
      "2             1.0  0.998158   \n",
      "\n",
      "                                       Original text  flag  \n",
      "0  [board, kieth, comment, want, make, sure, rela...     1  \n",
      "1  [wall, street, people, talking, enron, enron, ...     1  \n",
      "2  [transmission, expansion, system, transition, ...     0  \n"
     ]
    }
   ],
   "source": [
    "# Create flag for text highest associated with topic 2\n",
    "topic_details['flag'] = np.where((topic_details['Dominant_Topic'] == 2.0), 1, 0)\n",
    "print(topic_details.head())"
   ]
  },
  {
   "cell_type": "code",
   "execution_count": null,
   "metadata": {},
   "outputs": [],
   "source": []
  }
 ],
 "metadata": {
  "kernelspec": {
   "display_name": "Python 3",
   "language": "python",
   "name": "python3"
  },
  "language_info": {
   "codemirror_mode": {
    "name": "ipython",
    "version": 3
   },
   "file_extension": ".py",
   "mimetype": "text/x-python",
   "name": "python",
   "nbconvert_exporter": "python",
   "pygments_lexer": "ipython3",
   "version": "3.7.3"
  }
 },
 "nbformat": 4,
 "nbformat_minor": 4
}
